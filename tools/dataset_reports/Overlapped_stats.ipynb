{
 "cells": [
  {
   "cell_type": "code",
   "execution_count": 1,
   "id": "practical-sphere",
   "metadata": {},
   "outputs": [],
   "source": [
    "import pandas_profiling\n",
    "import pandas as pd\n",
    "import numpy as np\n",
    "import os"
   ]
  },
  {
   "cell_type": "code",
   "execution_count": 2,
   "id": "nonprofit-commissioner",
   "metadata": {},
   "outputs": [],
   "source": [
    "DATASET_NAME = 'carla-kitti'\n",
    "DATASET_VERSION = '0.1'\n",
    "ds_name_ver = DATASET_NAME + '_v' + DATASET_VERSION"
   ]
  },
  {
   "cell_type": "code",
   "execution_count": 3,
   "id": "invisible-founder",
   "metadata": {},
   "outputs": [],
   "source": [
    "carla_kitti_pd_fname = os.path.join(ds_name_ver, DATASET_NAME + '_per_obj_infos_pd')\n",
    "carla_kitti_per_obj_infos_pd = pd.read_pickle(carla_kitti_pd_fname)"
   ]
  },
  {
   "cell_type": "code",
   "execution_count": 4,
   "id": "periodic-membership",
   "metadata": {},
   "outputs": [],
   "source": [
    "kitti_pd_fname = os.path.join('kitti', 'kitti' + '_per_obj_infos_pd')\n",
    "kitti_per_obj_infos_pd = pd.read_pickle(kitti_pd_fname)"
   ]
  },
  {
   "cell_type": "code",
   "execution_count": 5,
   "id": "trained-kelly",
   "metadata": {
    "scrolled": true
   },
   "outputs": [
    {
     "data": {
      "text/html": [
       "<div>\n",
       "<style scoped>\n",
       "    .dataframe tbody tr th:only-of-type {\n",
       "        vertical-align: middle;\n",
       "    }\n",
       "\n",
       "    .dataframe tbody tr th {\n",
       "        vertical-align: top;\n",
       "    }\n",
       "\n",
       "    .dataframe thead th {\n",
       "        text-align: right;\n",
       "    }\n",
       "</style>\n",
       "<table border=\"1\" class=\"dataframe\">\n",
       "  <thead>\n",
       "    <tr style=\"text-align: right;\">\n",
       "      <th></th>\n",
       "      <th>name</th>\n",
       "      <th>truncated</th>\n",
       "      <th>occluded</th>\n",
       "      <th>alpha</th>\n",
       "      <th>bbox_left</th>\n",
       "      <th>bbox_top</th>\n",
       "      <th>bbox_right</th>\n",
       "      <th>bbox_bottom</th>\n",
       "      <th>dimensions_length</th>\n",
       "      <th>dimensions_width</th>\n",
       "      <th>...</th>\n",
       "      <th>difficulty</th>\n",
       "      <th>loc_x</th>\n",
       "      <th>loc_y</th>\n",
       "      <th>loc_z</th>\n",
       "      <th>dim_x</th>\n",
       "      <th>dim_y</th>\n",
       "      <th>dim_z</th>\n",
       "      <th>rotation_y_lidar</th>\n",
       "      <th>num_points_in_gt</th>\n",
       "      <th>pixel_height</th>\n",
       "    </tr>\n",
       "  </thead>\n",
       "  <tbody>\n",
       "    <tr>\n",
       "      <th>0</th>\n",
       "      <td>Pedestrian</td>\n",
       "      <td>0.0</td>\n",
       "      <td>0.0</td>\n",
       "      <td>-1.60</td>\n",
       "      <td>704.0</td>\n",
       "      <td>200.0</td>\n",
       "      <td>714.0</td>\n",
       "      <td>221.0</td>\n",
       "      <td>0.50</td>\n",
       "      <td>1.10</td>\n",
       "      <td>...</td>\n",
       "      <td>-1</td>\n",
       "      <td>33.009998</td>\n",
       "      <td>-4.51</td>\n",
       "      <td>-1.020</td>\n",
       "      <td>0.50</td>\n",
       "      <td>0.50</td>\n",
       "      <td>1.10</td>\n",
       "      <td>-0.110796</td>\n",
       "      <td>6</td>\n",
       "      <td>21.0</td>\n",
       "    </tr>\n",
       "    <tr>\n",
       "      <th>1</th>\n",
       "      <td>Car</td>\n",
       "      <td>0.0</td>\n",
       "      <td>0.0</td>\n",
       "      <td>1.47</td>\n",
       "      <td>531.0</td>\n",
       "      <td>194.0</td>\n",
       "      <td>576.0</td>\n",
       "      <td>223.0</td>\n",
       "      <td>4.97</td>\n",
       "      <td>1.55</td>\n",
       "      <td>...</td>\n",
       "      <td>1</td>\n",
       "      <td>36.770000</td>\n",
       "      <td>4.03</td>\n",
       "      <td>-0.935</td>\n",
       "      <td>4.97</td>\n",
       "      <td>2.04</td>\n",
       "      <td>1.55</td>\n",
       "      <td>-3.140796</td>\n",
       "      <td>53</td>\n",
       "      <td>29.0</td>\n",
       "    </tr>\n",
       "    <tr>\n",
       "      <th>2</th>\n",
       "      <td>Pedestrian</td>\n",
       "      <td>0.0</td>\n",
       "      <td>0.0</td>\n",
       "      <td>-1.64</td>\n",
       "      <td>703.0</td>\n",
       "      <td>200.0</td>\n",
       "      <td>713.0</td>\n",
       "      <td>221.0</td>\n",
       "      <td>0.50</td>\n",
       "      <td>1.10</td>\n",
       "      <td>...</td>\n",
       "      <td>-1</td>\n",
       "      <td>33.480000</td>\n",
       "      <td>-4.54</td>\n",
       "      <td>-1.020</td>\n",
       "      <td>0.50</td>\n",
       "      <td>0.50</td>\n",
       "      <td>1.10</td>\n",
       "      <td>-0.060796</td>\n",
       "      <td>5</td>\n",
       "      <td>21.0</td>\n",
       "    </tr>\n",
       "    <tr>\n",
       "      <th>3</th>\n",
       "      <td>Car</td>\n",
       "      <td>0.0</td>\n",
       "      <td>0.0</td>\n",
       "      <td>1.48</td>\n",
       "      <td>525.0</td>\n",
       "      <td>194.0</td>\n",
       "      <td>573.0</td>\n",
       "      <td>224.0</td>\n",
       "      <td>4.97</td>\n",
       "      <td>1.55</td>\n",
       "      <td>...</td>\n",
       "      <td>1</td>\n",
       "      <td>34.970001</td>\n",
       "      <td>4.07</td>\n",
       "      <td>-0.935</td>\n",
       "      <td>4.97</td>\n",
       "      <td>2.04</td>\n",
       "      <td>1.55</td>\n",
       "      <td>-3.160796</td>\n",
       "      <td>67</td>\n",
       "      <td>30.0</td>\n",
       "    </tr>\n",
       "    <tr>\n",
       "      <th>4</th>\n",
       "      <td>Pedestrian</td>\n",
       "      <td>0.0</td>\n",
       "      <td>0.0</td>\n",
       "      <td>-1.68</td>\n",
       "      <td>702.0</td>\n",
       "      <td>200.0</td>\n",
       "      <td>712.0</td>\n",
       "      <td>221.0</td>\n",
       "      <td>0.50</td>\n",
       "      <td>1.10</td>\n",
       "      <td>...</td>\n",
       "      <td>-1</td>\n",
       "      <td>34.000000</td>\n",
       "      <td>-4.55</td>\n",
       "      <td>-1.020</td>\n",
       "      <td>0.50</td>\n",
       "      <td>0.50</td>\n",
       "      <td>1.10</td>\n",
       "      <td>-0.020796</td>\n",
       "      <td>5</td>\n",
       "      <td>21.0</td>\n",
       "    </tr>\n",
       "    <tr>\n",
       "      <th>...</th>\n",
       "      <td>...</td>\n",
       "      <td>...</td>\n",
       "      <td>...</td>\n",
       "      <td>...</td>\n",
       "      <td>...</td>\n",
       "      <td>...</td>\n",
       "      <td>...</td>\n",
       "      <td>...</td>\n",
       "      <td>...</td>\n",
       "      <td>...</td>\n",
       "      <td>...</td>\n",
       "      <td>...</td>\n",
       "      <td>...</td>\n",
       "      <td>...</td>\n",
       "      <td>...</td>\n",
       "      <td>...</td>\n",
       "      <td>...</td>\n",
       "      <td>...</td>\n",
       "      <td>...</td>\n",
       "      <td>...</td>\n",
       "      <td>...</td>\n",
       "    </tr>\n",
       "    <tr>\n",
       "      <th>15625</th>\n",
       "      <td>Car</td>\n",
       "      <td>0.0</td>\n",
       "      <td>0.0</td>\n",
       "      <td>-1.58</td>\n",
       "      <td>557.0</td>\n",
       "      <td>194.0</td>\n",
       "      <td>685.0</td>\n",
       "      <td>294.0</td>\n",
       "      <td>5.03</td>\n",
       "      <td>1.64</td>\n",
       "      <td>...</td>\n",
       "      <td>0</td>\n",
       "      <td>13.020000</td>\n",
       "      <td>0.05</td>\n",
       "      <td>-0.900</td>\n",
       "      <td>5.03</td>\n",
       "      <td>2.15</td>\n",
       "      <td>1.64</td>\n",
       "      <td>-0.000796</td>\n",
       "      <td>566</td>\n",
       "      <td>100.0</td>\n",
       "    </tr>\n",
       "    <tr>\n",
       "      <th>15626</th>\n",
       "      <td>Car</td>\n",
       "      <td>0.0</td>\n",
       "      <td>0.0</td>\n",
       "      <td>3.00</td>\n",
       "      <td>278.0</td>\n",
       "      <td>201.0</td>\n",
       "      <td>415.0</td>\n",
       "      <td>238.0</td>\n",
       "      <td>4.72</td>\n",
       "      <td>1.30</td>\n",
       "      <td>...</td>\n",
       "      <td>1</td>\n",
       "      <td>24.230000</td>\n",
       "      <td>10.71</td>\n",
       "      <td>-1.060</td>\n",
       "      <td>4.72</td>\n",
       "      <td>1.89</td>\n",
       "      <td>1.30</td>\n",
       "      <td>1.319204</td>\n",
       "      <td>158</td>\n",
       "      <td>37.0</td>\n",
       "    </tr>\n",
       "    <tr>\n",
       "      <th>15627</th>\n",
       "      <td>Car</td>\n",
       "      <td>0.0</td>\n",
       "      <td>0.0</td>\n",
       "      <td>-1.58</td>\n",
       "      <td>550.0</td>\n",
       "      <td>194.0</td>\n",
       "      <td>691.0</td>\n",
       "      <td>305.0</td>\n",
       "      <td>5.03</td>\n",
       "      <td>1.64</td>\n",
       "      <td>...</td>\n",
       "      <td>0</td>\n",
       "      <td>12.080000</td>\n",
       "      <td>0.05</td>\n",
       "      <td>-0.900</td>\n",
       "      <td>5.03</td>\n",
       "      <td>2.15</td>\n",
       "      <td>1.64</td>\n",
       "      <td>-0.000796</td>\n",
       "      <td>683</td>\n",
       "      <td>111.0</td>\n",
       "    </tr>\n",
       "    <tr>\n",
       "      <th>15628</th>\n",
       "      <td>Car</td>\n",
       "      <td>0.0</td>\n",
       "      <td>0.0</td>\n",
       "      <td>2.79</td>\n",
       "      <td>163.0</td>\n",
       "      <td>203.0</td>\n",
       "      <td>328.0</td>\n",
       "      <td>245.0</td>\n",
       "      <td>4.72</td>\n",
       "      <td>1.30</td>\n",
       "      <td>...</td>\n",
       "      <td>0</td>\n",
       "      <td>21.209999</td>\n",
       "      <td>12.77</td>\n",
       "      <td>-1.060</td>\n",
       "      <td>4.72</td>\n",
       "      <td>1.89</td>\n",
       "      <td>1.30</td>\n",
       "      <td>1.409204</td>\n",
       "      <td>185</td>\n",
       "      <td>42.0</td>\n",
       "    </tr>\n",
       "    <tr>\n",
       "      <th>15629</th>\n",
       "      <td>Car</td>\n",
       "      <td>0.0</td>\n",
       "      <td>0.0</td>\n",
       "      <td>-1.67</td>\n",
       "      <td>543.0</td>\n",
       "      <td>194.0</td>\n",
       "      <td>699.0</td>\n",
       "      <td>318.0</td>\n",
       "      <td>5.03</td>\n",
       "      <td>1.64</td>\n",
       "      <td>...</td>\n",
       "      <td>0</td>\n",
       "      <td>11.120000</td>\n",
       "      <td>0.21</td>\n",
       "      <td>-0.900</td>\n",
       "      <td>5.03</td>\n",
       "      <td>2.15</td>\n",
       "      <td>1.64</td>\n",
       "      <td>0.079204</td>\n",
       "      <td>852</td>\n",
       "      <td>124.0</td>\n",
       "    </tr>\n",
       "  </tbody>\n",
       "</table>\n",
       "<p>15630 rows × 26 columns</p>\n",
       "</div>"
      ],
      "text/plain": [
       "             name  truncated  occluded  alpha  bbox_left  bbox_top  \\\n",
       "0      Pedestrian        0.0       0.0  -1.60      704.0     200.0   \n",
       "1             Car        0.0       0.0   1.47      531.0     194.0   \n",
       "2      Pedestrian        0.0       0.0  -1.64      703.0     200.0   \n",
       "3             Car        0.0       0.0   1.48      525.0     194.0   \n",
       "4      Pedestrian        0.0       0.0  -1.68      702.0     200.0   \n",
       "...           ...        ...       ...    ...        ...       ...   \n",
       "15625         Car        0.0       0.0  -1.58      557.0     194.0   \n",
       "15626         Car        0.0       0.0   3.00      278.0     201.0   \n",
       "15627         Car        0.0       0.0  -1.58      550.0     194.0   \n",
       "15628         Car        0.0       0.0   2.79      163.0     203.0   \n",
       "15629         Car        0.0       0.0  -1.67      543.0     194.0   \n",
       "\n",
       "       bbox_right  bbox_bottom  dimensions_length  dimensions_width  ...  \\\n",
       "0           714.0        221.0               0.50              1.10  ...   \n",
       "1           576.0        223.0               4.97              1.55  ...   \n",
       "2           713.0        221.0               0.50              1.10  ...   \n",
       "3           573.0        224.0               4.97              1.55  ...   \n",
       "4           712.0        221.0               0.50              1.10  ...   \n",
       "...           ...          ...                ...               ...  ...   \n",
       "15625       685.0        294.0               5.03              1.64  ...   \n",
       "15626       415.0        238.0               4.72              1.30  ...   \n",
       "15627       691.0        305.0               5.03              1.64  ...   \n",
       "15628       328.0        245.0               4.72              1.30  ...   \n",
       "15629       699.0        318.0               5.03              1.64  ...   \n",
       "\n",
       "       difficulty      loc_x  loc_y  loc_z  dim_x  dim_y  dim_z  \\\n",
       "0              -1  33.009998  -4.51 -1.020   0.50   0.50   1.10   \n",
       "1               1  36.770000   4.03 -0.935   4.97   2.04   1.55   \n",
       "2              -1  33.480000  -4.54 -1.020   0.50   0.50   1.10   \n",
       "3               1  34.970001   4.07 -0.935   4.97   2.04   1.55   \n",
       "4              -1  34.000000  -4.55 -1.020   0.50   0.50   1.10   \n",
       "...           ...        ...    ...    ...    ...    ...    ...   \n",
       "15625           0  13.020000   0.05 -0.900   5.03   2.15   1.64   \n",
       "15626           1  24.230000  10.71 -1.060   4.72   1.89   1.30   \n",
       "15627           0  12.080000   0.05 -0.900   5.03   2.15   1.64   \n",
       "15628           0  21.209999  12.77 -1.060   4.72   1.89   1.30   \n",
       "15629           0  11.120000   0.21 -0.900   5.03   2.15   1.64   \n",
       "\n",
       "       rotation_y_lidar  num_points_in_gt  pixel_height  \n",
       "0             -0.110796                 6          21.0  \n",
       "1             -3.140796                53          29.0  \n",
       "2             -0.060796                 5          21.0  \n",
       "3             -3.160796                67          30.0  \n",
       "4             -0.020796                 5          21.0  \n",
       "...                 ...               ...           ...  \n",
       "15625         -0.000796               566         100.0  \n",
       "15626          1.319204               158          37.0  \n",
       "15627         -0.000796               683         111.0  \n",
       "15628          1.409204               185          42.0  \n",
       "15629          0.079204               852         124.0  \n",
       "\n",
       "[15630 rows x 26 columns]"
      ]
     },
     "execution_count": 5,
     "metadata": {},
     "output_type": "execute_result"
    }
   ],
   "source": [
    "carla_kitti_per_obj_infos_pd"
   ]
  },
  {
   "cell_type": "code",
   "execution_count": 6,
   "id": "younger-reunion",
   "metadata": {
    "scrolled": false
   },
   "outputs": [
    {
     "data": {
      "text/html": [
       "<div>\n",
       "<style scoped>\n",
       "    .dataframe tbody tr th:only-of-type {\n",
       "        vertical-align: middle;\n",
       "    }\n",
       "\n",
       "    .dataframe tbody tr th {\n",
       "        vertical-align: top;\n",
       "    }\n",
       "\n",
       "    .dataframe thead th {\n",
       "        text-align: right;\n",
       "    }\n",
       "</style>\n",
       "<table border=\"1\" class=\"dataframe\">\n",
       "  <thead>\n",
       "    <tr style=\"text-align: right;\">\n",
       "      <th></th>\n",
       "      <th>name</th>\n",
       "      <th>truncated</th>\n",
       "      <th>occluded</th>\n",
       "      <th>alpha</th>\n",
       "      <th>bbox_left</th>\n",
       "      <th>bbox_top</th>\n",
       "      <th>bbox_right</th>\n",
       "      <th>bbox_bottom</th>\n",
       "      <th>dimensions_length</th>\n",
       "      <th>dimensions_width</th>\n",
       "      <th>...</th>\n",
       "      <th>difficulty</th>\n",
       "      <th>loc_x</th>\n",
       "      <th>loc_y</th>\n",
       "      <th>loc_z</th>\n",
       "      <th>dim_x</th>\n",
       "      <th>dim_y</th>\n",
       "      <th>dim_z</th>\n",
       "      <th>rotation_y_lidar</th>\n",
       "      <th>num_points_in_gt</th>\n",
       "      <th>pixel_height</th>\n",
       "    </tr>\n",
       "  </thead>\n",
       "  <tbody>\n",
       "    <tr>\n",
       "      <th>0</th>\n",
       "      <td>Pedestrian</td>\n",
       "      <td>0.0</td>\n",
       "      <td>0.0</td>\n",
       "      <td>-0.20</td>\n",
       "      <td>712.400024</td>\n",
       "      <td>143.000000</td>\n",
       "      <td>810.729980</td>\n",
       "      <td>307.920013</td>\n",
       "      <td>1.20</td>\n",
       "      <td>1.89</td>\n",
       "      <td>...</td>\n",
       "      <td>0</td>\n",
       "      <td>8.731381</td>\n",
       "      <td>-1.855917</td>\n",
       "      <td>-0.654699</td>\n",
       "      <td>1.20</td>\n",
       "      <td>0.48</td>\n",
       "      <td>1.89</td>\n",
       "      <td>-1.580796</td>\n",
       "      <td>377</td>\n",
       "      <td>164.920013</td>\n",
       "    </tr>\n",
       "    <tr>\n",
       "      <th>1</th>\n",
       "      <td>Car</td>\n",
       "      <td>0.0</td>\n",
       "      <td>0.0</td>\n",
       "      <td>1.55</td>\n",
       "      <td>614.239990</td>\n",
       "      <td>181.779999</td>\n",
       "      <td>727.309998</td>\n",
       "      <td>284.769989</td>\n",
       "      <td>4.15</td>\n",
       "      <td>1.57</td>\n",
       "      <td>...</td>\n",
       "      <td>0</td>\n",
       "      <td>13.510703</td>\n",
       "      <td>-0.981780</td>\n",
       "      <td>-0.909490</td>\n",
       "      <td>4.15</td>\n",
       "      <td>1.73</td>\n",
       "      <td>1.57</td>\n",
       "      <td>-3.190796</td>\n",
       "      <td>674</td>\n",
       "      <td>102.989990</td>\n",
       "    </tr>\n",
       "    <tr>\n",
       "      <th>2</th>\n",
       "      <td>Car</td>\n",
       "      <td>0.0</td>\n",
       "      <td>0.0</td>\n",
       "      <td>-1.56</td>\n",
       "      <td>564.619995</td>\n",
       "      <td>174.589996</td>\n",
       "      <td>616.429993</td>\n",
       "      <td>224.740005</td>\n",
       "      <td>3.20</td>\n",
       "      <td>1.61</td>\n",
       "      <td>...</td>\n",
       "      <td>0</td>\n",
       "      <td>25.299036</td>\n",
       "      <td>0.708958</td>\n",
       "      <td>-0.688423</td>\n",
       "      <td>3.20</td>\n",
       "      <td>1.66</td>\n",
       "      <td>1.61</td>\n",
       "      <td>0.019204</td>\n",
       "      <td>182</td>\n",
       "      <td>50.150009</td>\n",
       "    </tr>\n",
       "    <tr>\n",
       "      <th>3</th>\n",
       "      <td>Car</td>\n",
       "      <td>0.0</td>\n",
       "      <td>0.0</td>\n",
       "      <td>1.71</td>\n",
       "      <td>481.589996</td>\n",
       "      <td>180.089996</td>\n",
       "      <td>512.549988</td>\n",
       "      <td>202.419998</td>\n",
       "      <td>3.70</td>\n",
       "      <td>1.40</td>\n",
       "      <td>...</td>\n",
       "      <td>-1</td>\n",
       "      <td>47.838207</td>\n",
       "      <td>7.453393</td>\n",
       "      <td>-0.676632</td>\n",
       "      <td>3.70</td>\n",
       "      <td>1.51</td>\n",
       "      <td>1.40</td>\n",
       "      <td>-3.120796</td>\n",
       "      <td>20</td>\n",
       "      <td>22.330002</td>\n",
       "    </tr>\n",
       "    <tr>\n",
       "      <th>4</th>\n",
       "      <td>Car</td>\n",
       "      <td>0.0</td>\n",
       "      <td>0.0</td>\n",
       "      <td>1.64</td>\n",
       "      <td>542.049988</td>\n",
       "      <td>175.550003</td>\n",
       "      <td>565.270020</td>\n",
       "      <td>193.789993</td>\n",
       "      <td>4.05</td>\n",
       "      <td>1.46</td>\n",
       "      <td>...</td>\n",
       "      <td>-1</td>\n",
       "      <td>60.806362</td>\n",
       "      <td>4.733361</td>\n",
       "      <td>-0.369830</td>\n",
       "      <td>4.05</td>\n",
       "      <td>1.66</td>\n",
       "      <td>1.46</td>\n",
       "      <td>-3.130796</td>\n",
       "      <td>5</td>\n",
       "      <td>18.239990</td>\n",
       "    </tr>\n",
       "    <tr>\n",
       "      <th>...</th>\n",
       "      <td>...</td>\n",
       "      <td>...</td>\n",
       "      <td>...</td>\n",
       "      <td>...</td>\n",
       "      <td>...</td>\n",
       "      <td>...</td>\n",
       "      <td>...</td>\n",
       "      <td>...</td>\n",
       "      <td>...</td>\n",
       "      <td>...</td>\n",
       "      <td>...</td>\n",
       "      <td>...</td>\n",
       "      <td>...</td>\n",
       "      <td>...</td>\n",
       "      <td>...</td>\n",
       "      <td>...</td>\n",
       "      <td>...</td>\n",
       "      <td>...</td>\n",
       "      <td>...</td>\n",
       "      <td>...</td>\n",
       "      <td>...</td>\n",
       "    </tr>\n",
       "    <tr>\n",
       "      <th>19695</th>\n",
       "      <td>Car</td>\n",
       "      <td>0.0</td>\n",
       "      <td>0.0</td>\n",
       "      <td>2.06</td>\n",
       "      <td>498.890015</td>\n",
       "      <td>186.740005</td>\n",
       "      <td>759.599976</td>\n",
       "      <td>333.700012</td>\n",
       "      <td>3.99</td>\n",
       "      <td>1.46</td>\n",
       "      <td>...</td>\n",
       "      <td>0</td>\n",
       "      <td>9.859935</td>\n",
       "      <td>-0.423110</td>\n",
       "      <td>-0.916730</td>\n",
       "      <td>3.99</td>\n",
       "      <td>1.74</td>\n",
       "      <td>1.46</td>\n",
       "      <td>-3.670796</td>\n",
       "      <td>1560</td>\n",
       "      <td>146.960007</td>\n",
       "    </tr>\n",
       "    <tr>\n",
       "      <th>19696</th>\n",
       "      <td>Car</td>\n",
       "      <td>0.0</td>\n",
       "      <td>1.0</td>\n",
       "      <td>1.82</td>\n",
       "      <td>654.409973</td>\n",
       "      <td>185.960007</td>\n",
       "      <td>752.380005</td>\n",
       "      <td>245.050003</td>\n",
       "      <td>4.29</td>\n",
       "      <td>1.42</td>\n",
       "      <td>...</td>\n",
       "      <td>1</td>\n",
       "      <td>20.501448</td>\n",
       "      <td>-2.670077</td>\n",
       "      <td>-0.999280</td>\n",
       "      <td>4.29</td>\n",
       "      <td>1.68</td>\n",
       "      <td>1.42</td>\n",
       "      <td>-3.520796</td>\n",
       "      <td>68</td>\n",
       "      <td>59.089996</td>\n",
       "    </tr>\n",
       "    <tr>\n",
       "      <th>19697</th>\n",
       "      <td>Car</td>\n",
       "      <td>0.0</td>\n",
       "      <td>2.0</td>\n",
       "      <td>1.76</td>\n",
       "      <td>729.469971</td>\n",
       "      <td>184.250000</td>\n",
       "      <td>786.080017</td>\n",
       "      <td>224.100006</td>\n",
       "      <td>3.80</td>\n",
       "      <td>1.36</td>\n",
       "      <td>...</td>\n",
       "      <td>2</td>\n",
       "      <td>27.511644</td>\n",
       "      <td>-5.579149</td>\n",
       "      <td>-0.976757</td>\n",
       "      <td>3.80</td>\n",
       "      <td>1.40</td>\n",
       "      <td>1.36</td>\n",
       "      <td>-3.530796</td>\n",
       "      <td>16</td>\n",
       "      <td>39.850006</td>\n",
       "    </tr>\n",
       "    <tr>\n",
       "      <th>19698</th>\n",
       "      <td>Van</td>\n",
       "      <td>0.0</td>\n",
       "      <td>1.0</td>\n",
       "      <td>1.60</td>\n",
       "      <td>801.700012</td>\n",
       "      <td>162.110001</td>\n",
       "      <td>837.520020</td>\n",
       "      <td>202.619995</td>\n",
       "      <td>5.64</td>\n",
       "      <td>2.52</td>\n",
       "      <td>...</td>\n",
       "      <td>1</td>\n",
       "      <td>48.253315</td>\n",
       "      <td>-13.955256</td>\n",
       "      <td>-0.348510</td>\n",
       "      <td>5.64</td>\n",
       "      <td>2.10</td>\n",
       "      <td>2.52</td>\n",
       "      <td>-3.450796</td>\n",
       "      <td>75</td>\n",
       "      <td>40.509995</td>\n",
       "    </tr>\n",
       "    <tr>\n",
       "      <th>19699</th>\n",
       "      <td>Car</td>\n",
       "      <td>0.0</td>\n",
       "      <td>2.0</td>\n",
       "      <td>1.61</td>\n",
       "      <td>786.590027</td>\n",
       "      <td>180.699997</td>\n",
       "      <td>820.400024</td>\n",
       "      <td>208.380005</td>\n",
       "      <td>2.96</td>\n",
       "      <td>1.44</td>\n",
       "      <td>...</td>\n",
       "      <td>2</td>\n",
       "      <td>39.832985</td>\n",
       "      <td>-10.586491</td>\n",
       "      <td>-0.940911</td>\n",
       "      <td>2.96</td>\n",
       "      <td>1.65</td>\n",
       "      <td>1.44</td>\n",
       "      <td>-3.440796</td>\n",
       "      <td>0</td>\n",
       "      <td>27.680008</td>\n",
       "    </tr>\n",
       "  </tbody>\n",
       "</table>\n",
       "<p>19700 rows × 26 columns</p>\n",
       "</div>"
      ],
      "text/plain": [
       "             name  truncated  occluded  alpha   bbox_left    bbox_top  \\\n",
       "0      Pedestrian        0.0       0.0  -0.20  712.400024  143.000000   \n",
       "1             Car        0.0       0.0   1.55  614.239990  181.779999   \n",
       "2             Car        0.0       0.0  -1.56  564.619995  174.589996   \n",
       "3             Car        0.0       0.0   1.71  481.589996  180.089996   \n",
       "4             Car        0.0       0.0   1.64  542.049988  175.550003   \n",
       "...           ...        ...       ...    ...         ...         ...   \n",
       "19695         Car        0.0       0.0   2.06  498.890015  186.740005   \n",
       "19696         Car        0.0       1.0   1.82  654.409973  185.960007   \n",
       "19697         Car        0.0       2.0   1.76  729.469971  184.250000   \n",
       "19698         Van        0.0       1.0   1.60  801.700012  162.110001   \n",
       "19699         Car        0.0       2.0   1.61  786.590027  180.699997   \n",
       "\n",
       "       bbox_right  bbox_bottom  dimensions_length  dimensions_width  ...  \\\n",
       "0      810.729980   307.920013               1.20              1.89  ...   \n",
       "1      727.309998   284.769989               4.15              1.57  ...   \n",
       "2      616.429993   224.740005               3.20              1.61  ...   \n",
       "3      512.549988   202.419998               3.70              1.40  ...   \n",
       "4      565.270020   193.789993               4.05              1.46  ...   \n",
       "...           ...          ...                ...               ...  ...   \n",
       "19695  759.599976   333.700012               3.99              1.46  ...   \n",
       "19696  752.380005   245.050003               4.29              1.42  ...   \n",
       "19697  786.080017   224.100006               3.80              1.36  ...   \n",
       "19698  837.520020   202.619995               5.64              2.52  ...   \n",
       "19699  820.400024   208.380005               2.96              1.44  ...   \n",
       "\n",
       "       difficulty      loc_x      loc_y     loc_z  dim_x  dim_y  dim_z  \\\n",
       "0               0   8.731381  -1.855917 -0.654699   1.20   0.48   1.89   \n",
       "1               0  13.510703  -0.981780 -0.909490   4.15   1.73   1.57   \n",
       "2               0  25.299036   0.708958 -0.688423   3.20   1.66   1.61   \n",
       "3              -1  47.838207   7.453393 -0.676632   3.70   1.51   1.40   \n",
       "4              -1  60.806362   4.733361 -0.369830   4.05   1.66   1.46   \n",
       "...           ...        ...        ...       ...    ...    ...    ...   \n",
       "19695           0   9.859935  -0.423110 -0.916730   3.99   1.74   1.46   \n",
       "19696           1  20.501448  -2.670077 -0.999280   4.29   1.68   1.42   \n",
       "19697           2  27.511644  -5.579149 -0.976757   3.80   1.40   1.36   \n",
       "19698           1  48.253315 -13.955256 -0.348510   5.64   2.10   2.52   \n",
       "19699           2  39.832985 -10.586491 -0.940911   2.96   1.65   1.44   \n",
       "\n",
       "       rotation_y_lidar  num_points_in_gt  pixel_height  \n",
       "0             -1.580796               377    164.920013  \n",
       "1             -3.190796               674    102.989990  \n",
       "2              0.019204               182     50.150009  \n",
       "3             -3.120796                20     22.330002  \n",
       "4             -3.130796                 5     18.239990  \n",
       "...                 ...               ...           ...  \n",
       "19695         -3.670796              1560    146.960007  \n",
       "19696         -3.520796                68     59.089996  \n",
       "19697         -3.530796                16     39.850006  \n",
       "19698         -3.450796                75     40.509995  \n",
       "19699         -3.440796                 0     27.680008  \n",
       "\n",
       "[19700 rows x 26 columns]"
      ]
     },
     "execution_count": 6,
     "metadata": {},
     "output_type": "execute_result"
    }
   ],
   "source": [
    "kitti_per_obj_infos_pd"
   ]
  },
  {
   "cell_type": "code",
   "execution_count": 7,
   "id": "modular-malta",
   "metadata": {
    "scrolled": true
   },
   "outputs": [
    {
     "data": {
      "application/vnd.jupyter.widget-view+json": {
       "model_id": "2e27fa83e45b4e089a54c4824b0979dc",
       "version_major": 2,
       "version_minor": 0
      },
      "text/plain": [
       "Summarize dataset:   0%|          | 0/35 [00:00<?, ?it/s]"
      ]
     },
     "metadata": {},
     "output_type": "display_data"
    },
    {
     "data": {
      "application/vnd.jupyter.widget-view+json": {
       "model_id": "885b8fbd159745d586405a136f0fd0a0",
       "version_major": 2,
       "version_minor": 0
      },
      "text/plain": [
       "Generate report structure:   0%|          | 0/1 [00:00<?, ?it/s]"
      ]
     },
     "metadata": {},
     "output_type": "display_data"
    },
    {
     "data": {
      "application/vnd.jupyter.widget-view+json": {
       "model_id": "d0ea662337da4dc3b553eea3e9ed72ec",
       "version_major": 2,
       "version_minor": 0
      },
      "text/plain": [
       "Render HTML:   0%|          | 0/1 [00:00<?, ?it/s]"
      ]
     },
     "metadata": {},
     "output_type": "display_data"
    },
    {
     "data": {
      "application/vnd.jupyter.widget-view+json": {
       "model_id": "989cdf3de5244334841bf77ed979e392",
       "version_major": 2,
       "version_minor": 0
      },
      "text/plain": [
       "Export report to file:   0%|          | 0/1 [00:00<?, ?it/s]"
      ]
     },
     "metadata": {},
     "output_type": "display_data"
    },
    {
     "data": {
      "application/vnd.jupyter.widget-view+json": {
       "model_id": "0b7b929ba4e4440eb6089843deed7b28",
       "version_major": 2,
       "version_minor": 0
      },
      "text/plain": [
       "Summarize dataset:   0%|          | 0/35 [00:00<?, ?it/s]"
      ]
     },
     "metadata": {},
     "output_type": "display_data"
    },
    {
     "data": {
      "application/vnd.jupyter.widget-view+json": {
       "model_id": "32446f14616344ec98ebfdda9b2f9916",
       "version_major": 2,
       "version_minor": 0
      },
      "text/plain": [
       "Generate report structure:   0%|          | 0/1 [00:00<?, ?it/s]"
      ]
     },
     "metadata": {},
     "output_type": "display_data"
    },
    {
     "data": {
      "application/vnd.jupyter.widget-view+json": {
       "model_id": "561afc723ca949b781c8044611e11e31",
       "version_major": 2,
       "version_minor": 0
      },
      "text/plain": [
       "Render HTML:   0%|          | 0/1 [00:00<?, ?it/s]"
      ]
     },
     "metadata": {},
     "output_type": "display_data"
    },
    {
     "data": {
      "application/vnd.jupyter.widget-view+json": {
       "model_id": "55f4689bf5b44784b2d5246552c1c7fe",
       "version_major": 2,
       "version_minor": 0
      },
      "text/plain": [
       "Export report to file:   0%|          | 0/1 [00:00<?, ?it/s]"
      ]
     },
     "metadata": {},
     "output_type": "display_data"
    },
    {
     "data": {
      "application/vnd.jupyter.widget-view+json": {
       "model_id": "51edd3002fc84b729e8dd95239106dd8",
       "version_major": 2,
       "version_minor": 0
      },
      "text/plain": [
       "Summarize dataset:   0%|          | 0/35 [00:00<?, ?it/s]"
      ]
     },
     "metadata": {},
     "output_type": "display_data"
    },
    {
     "data": {
      "application/vnd.jupyter.widget-view+json": {
       "model_id": "705d92205308486188dc2730942c7745",
       "version_major": 2,
       "version_minor": 0
      },
      "text/plain": [
       "Generate report structure:   0%|          | 0/1 [00:00<?, ?it/s]"
      ]
     },
     "metadata": {},
     "output_type": "display_data"
    },
    {
     "data": {
      "application/vnd.jupyter.widget-view+json": {
       "model_id": "5f41299156cc474c81b41ac604af1402",
       "version_major": 2,
       "version_minor": 0
      },
      "text/plain": [
       "Render HTML:   0%|          | 0/1 [00:00<?, ?it/s]"
      ]
     },
     "metadata": {},
     "output_type": "display_data"
    },
    {
     "data": {
      "application/vnd.jupyter.widget-view+json": {
       "model_id": "c006f9aa66884787bc3202cc026b41ea",
       "version_major": 2,
       "version_minor": 0
      },
      "text/plain": [
       "Export report to file:   0%|          | 0/1 [00:00<?, ?it/s]"
      ]
     },
     "metadata": {},
     "output_type": "display_data"
    },
    {
     "data": {
      "application/vnd.jupyter.widget-view+json": {
       "model_id": "f2c3875a1082433db2d09d2a2cc8602b",
       "version_major": 2,
       "version_minor": 0
      },
      "text/plain": [
       "Summarize dataset:   0%|          | 0/35 [00:00<?, ?it/s]"
      ]
     },
     "metadata": {},
     "output_type": "display_data"
    },
    {
     "data": {
      "application/vnd.jupyter.widget-view+json": {
       "model_id": "b554ab0cc9d540d6b15e5c70dc18b7c4",
       "version_major": 2,
       "version_minor": 0
      },
      "text/plain": [
       "Generate report structure:   0%|          | 0/1 [00:00<?, ?it/s]"
      ]
     },
     "metadata": {},
     "output_type": "display_data"
    },
    {
     "data": {
      "application/vnd.jupyter.widget-view+json": {
       "model_id": "0551be75d72145c7a3bfbb8b874cc79b",
       "version_major": 2,
       "version_minor": 0
      },
      "text/plain": [
       "Render HTML:   0%|          | 0/1 [00:00<?, ?it/s]"
      ]
     },
     "metadata": {},
     "output_type": "display_data"
    },
    {
     "data": {
      "application/vnd.jupyter.widget-view+json": {
       "model_id": "e44d3a9719c94cd9ac0717ddd84fbd82",
       "version_major": 2,
       "version_minor": 0
      },
      "text/plain": [
       "Export report to file:   0%|          | 0/1 [00:00<?, ?it/s]"
      ]
     },
     "metadata": {},
     "output_type": "display_data"
    },
    {
     "data": {
      "application/vnd.jupyter.widget-view+json": {
       "model_id": "e4f10f57ab9d4926a84c46f58fbc7978",
       "version_major": 2,
       "version_minor": 0
      },
      "text/plain": [
       "Summarize dataset:   0%|          | 0/35 [00:00<?, ?it/s]"
      ]
     },
     "metadata": {},
     "output_type": "display_data"
    },
    {
     "data": {
      "application/vnd.jupyter.widget-view+json": {
       "model_id": "458abe58fbb748b69b8f46210d5521b7",
       "version_major": 2,
       "version_minor": 0
      },
      "text/plain": [
       "Generate report structure:   0%|          | 0/1 [00:00<?, ?it/s]"
      ]
     },
     "metadata": {},
     "output_type": "display_data"
    },
    {
     "data": {
      "application/vnd.jupyter.widget-view+json": {
       "model_id": "af9dc1747d4e4edf9c18d4458d4d300b",
       "version_major": 2,
       "version_minor": 0
      },
      "text/plain": [
       "Render HTML:   0%|          | 0/1 [00:00<?, ?it/s]"
      ]
     },
     "metadata": {},
     "output_type": "display_data"
    },
    {
     "data": {
      "application/vnd.jupyter.widget-view+json": {
       "model_id": "32d5240e0875429c86ab3905b141e76d",
       "version_major": 2,
       "version_minor": 0
      },
      "text/plain": [
       "Export report to file:   0%|          | 0/1 [00:00<?, ?it/s]"
      ]
     },
     "metadata": {},
     "output_type": "display_data"
    },
    {
     "data": {
      "application/vnd.jupyter.widget-view+json": {
       "model_id": "083a47d337bb4b7eaf76a04d92561a27",
       "version_major": 2,
       "version_minor": 0
      },
      "text/plain": [
       "Summarize dataset:   0%|          | 0/35 [00:00<?, ?it/s]"
      ]
     },
     "metadata": {},
     "output_type": "display_data"
    },
    {
     "data": {
      "application/vnd.jupyter.widget-view+json": {
       "model_id": "77d19fa031de4a6abed7d679b3afd3ab",
       "version_major": 2,
       "version_minor": 0
      },
      "text/plain": [
       "Generate report structure:   0%|          | 0/1 [00:00<?, ?it/s]"
      ]
     },
     "metadata": {},
     "output_type": "display_data"
    },
    {
     "data": {
      "application/vnd.jupyter.widget-view+json": {
       "model_id": "454d8b8ea06542be982114eae55c5b78",
       "version_major": 2,
       "version_minor": 0
      },
      "text/plain": [
       "Render HTML:   0%|          | 0/1 [00:00<?, ?it/s]"
      ]
     },
     "metadata": {},
     "output_type": "display_data"
    },
    {
     "data": {
      "application/vnd.jupyter.widget-view+json": {
       "model_id": "82a8b7fa06c241cdb5ff0ba3791b328e",
       "version_major": 2,
       "version_minor": 0
      },
      "text/plain": [
       "Export report to file:   0%|          | 0/1 [00:00<?, ?it/s]"
      ]
     },
     "metadata": {},
     "output_type": "display_data"
    },
    {
     "data": {
      "application/vnd.jupyter.widget-view+json": {
       "model_id": "9a8cf47732e343c696d059ead44b2905",
       "version_major": 2,
       "version_minor": 0
      },
      "text/plain": [
       "Summarize dataset:   0%|          | 0/35 [00:00<?, ?it/s]"
      ]
     },
     "metadata": {},
     "output_type": "display_data"
    },
    {
     "data": {
      "application/vnd.jupyter.widget-view+json": {
       "model_id": "d77cf9580ea442a09826e1e7e8ae0b69",
       "version_major": 2,
       "version_minor": 0
      },
      "text/plain": [
       "Generate report structure:   0%|          | 0/1 [00:00<?, ?it/s]"
      ]
     },
     "metadata": {},
     "output_type": "display_data"
    },
    {
     "data": {
      "application/vnd.jupyter.widget-view+json": {
       "model_id": "f7135f657b9c42a18ecf81b9b9a384da",
       "version_major": 2,
       "version_minor": 0
      },
      "text/plain": [
       "Render HTML:   0%|          | 0/1 [00:00<?, ?it/s]"
      ]
     },
     "metadata": {},
     "output_type": "display_data"
    },
    {
     "data": {
      "application/vnd.jupyter.widget-view+json": {
       "model_id": "21c198ac68b549b8bd8319154db8d0bb",
       "version_major": 2,
       "version_minor": 0
      },
      "text/plain": [
       "Export report to file:   0%|          | 0/1 [00:00<?, ?it/s]"
      ]
     },
     "metadata": {},
     "output_type": "display_data"
    },
    {
     "data": {
      "application/vnd.jupyter.widget-view+json": {
       "model_id": "032eeb59cd5148b5b92d71eff1ac5473",
       "version_major": 2,
       "version_minor": 0
      },
      "text/plain": [
       "Summarize dataset:   0%|          | 0/35 [00:00<?, ?it/s]"
      ]
     },
     "metadata": {},
     "output_type": "display_data"
    },
    {
     "data": {
      "application/vnd.jupyter.widget-view+json": {
       "model_id": "c1bf876a09ff4411abb81eeb93249b30",
       "version_major": 2,
       "version_minor": 0
      },
      "text/plain": [
       "Generate report structure:   0%|          | 0/1 [00:00<?, ?it/s]"
      ]
     },
     "metadata": {},
     "output_type": "display_data"
    },
    {
     "data": {
      "application/vnd.jupyter.widget-view+json": {
       "model_id": "4f4f52d92da9431491d9cf5f372307e1",
       "version_major": 2,
       "version_minor": 0
      },
      "text/plain": [
       "Render HTML:   0%|          | 0/1 [00:00<?, ?it/s]"
      ]
     },
     "metadata": {},
     "output_type": "display_data"
    },
    {
     "data": {
      "application/vnd.jupyter.widget-view+json": {
       "model_id": "aa24282683654ac79f5333ab14f6b5ce",
       "version_major": 2,
       "version_minor": 0
      },
      "text/plain": [
       "Export report to file:   0%|          | 0/1 [00:00<?, ?it/s]"
      ]
     },
     "metadata": {},
     "output_type": "display_data"
    },
    {
     "data": {
      "application/vnd.jupyter.widget-view+json": {
       "model_id": "14335f394ab94de3b673d1beb5b2015b",
       "version_major": 2,
       "version_minor": 0
      },
      "text/plain": [
       "Summarize dataset:   0%|          | 0/35 [00:00<?, ?it/s]"
      ]
     },
     "metadata": {},
     "output_type": "display_data"
    },
    {
     "data": {
      "application/vnd.jupyter.widget-view+json": {
       "model_id": "a994d748e5644f70acc266d3cc62c20e",
       "version_major": 2,
       "version_minor": 0
      },
      "text/plain": [
       "Generate report structure:   0%|          | 0/1 [00:00<?, ?it/s]"
      ]
     },
     "metadata": {},
     "output_type": "display_data"
    },
    {
     "data": {
      "application/vnd.jupyter.widget-view+json": {
       "model_id": "1e313fcb5c36459ab883a36b6fbd4da9",
       "version_major": 2,
       "version_minor": 0
      },
      "text/plain": [
       "Render HTML:   0%|          | 0/1 [00:00<?, ?it/s]"
      ]
     },
     "metadata": {},
     "output_type": "display_data"
    },
    {
     "data": {
      "application/vnd.jupyter.widget-view+json": {
       "model_id": "c42d9dfd7dec4fa58a9481035438d2ba",
       "version_major": 2,
       "version_minor": 0
      },
      "text/plain": [
       "Export report to file:   0%|          | 0/1 [00:00<?, ?it/s]"
      ]
     },
     "metadata": {},
     "output_type": "display_data"
    },
    {
     "data": {
      "application/vnd.jupyter.widget-view+json": {
       "model_id": "2d4b75a2ca51451c872cb299a6902d87",
       "version_major": 2,
       "version_minor": 0
      },
      "text/plain": [
       "Summarize dataset:   0%|          | 0/35 [00:00<?, ?it/s]"
      ]
     },
     "metadata": {},
     "output_type": "display_data"
    },
    {
     "data": {
      "application/vnd.jupyter.widget-view+json": {
       "model_id": "699fcd02e8984fd3962a5329a0936167",
       "version_major": 2,
       "version_minor": 0
      },
      "text/plain": [
       "Generate report structure:   0%|          | 0/1 [00:00<?, ?it/s]"
      ]
     },
     "metadata": {},
     "output_type": "display_data"
    },
    {
     "data": {
      "application/vnd.jupyter.widget-view+json": {
       "model_id": "da598171a3034a5ea3b0bf23bc1f8cf4",
       "version_major": 2,
       "version_minor": 0
      },
      "text/plain": [
       "Render HTML:   0%|          | 0/1 [00:00<?, ?it/s]"
      ]
     },
     "metadata": {},
     "output_type": "display_data"
    },
    {
     "data": {
      "application/vnd.jupyter.widget-view+json": {
       "model_id": "21ac50f9a9bd463eb6ce2522d55d2dc7",
       "version_major": 2,
       "version_minor": 0
      },
      "text/plain": [
       "Export report to file:   0%|          | 0/1 [00:00<?, ?it/s]"
      ]
     },
     "metadata": {},
     "output_type": "display_data"
    }
   ],
   "source": [
    "carla_kitti_sep_dfs = {}\n",
    "for (name, df) in carla_kitti_per_obj_infos_pd.groupby('name'):\n",
    "    carla_kitti_sep_dfs[name] = df\n",
    "    pd_prof = pandas_profiling.ProfileReport(df, minimal=True)\n",
    "    pd_prof.to_file(os.path.join(ds_name_ver, DATASET_NAME + '_per_obj_{}_only.html'.format(name)))\n",
    "\n",
    "kitti_sep_dfs = {}\n",
    "for (name, df) in kitti_per_obj_infos_pd.groupby('name'):\n",
    "    kitti_sep_dfs[name] = df\n",
    "    pd_prof = pandas_profiling.ProfileReport(df, minimal=True)\n",
    "    pd_prof.to_file(os.path.join('kitti', 'kitti' + '_per_obj_{}_only.html'.format(name)))"
   ]
  },
  {
   "cell_type": "code",
   "execution_count": 8,
   "id": "measured-cartridge",
   "metadata": {},
   "outputs": [],
   "source": [
    "carla_kitti_car = carla_kitti_sep_dfs['Car']\n",
    "kitti_car = kitti_sep_dfs['Car']"
   ]
  },
  {
   "cell_type": "code",
   "execution_count": 9,
   "id": "collective-burton",
   "metadata": {},
   "outputs": [],
   "source": [
    "carla_kitti_car_depths = carla_kitti_car['loc_x']\n",
    "kitti_car_depths = kitti_car['loc_x']"
   ]
  },
  {
   "cell_type": "code",
   "execution_count": 10,
   "id": "collect-sandwich",
   "metadata": {},
   "outputs": [],
   "source": [
    "carla_kitti_car_length = carla_kitti_car['dim_x']\n",
    "kitti_car_length = kitti_car['dim_x']\n",
    "\n",
    "carla_kitti_car_width = carla_kitti_car['dim_y']\n",
    "kitti_car_width = kitti_car['dim_y']\n",
    "\n",
    "carla_kitti_car_height = carla_kitti_car['dim_z']\n",
    "kitti_car_height = kitti_car['dim_z']"
   ]
  },
  {
   "cell_type": "code",
   "execution_count": 11,
   "id": "threaded-antenna",
   "metadata": {},
   "outputs": [
    {
     "data": {
      "image/png": "[encoded data removed]",
      "text/plain": [
       "<Figure size 432x288 with 1 Axes>"
      ]
     },
     "metadata": {
      "needs_background": "light"
     },
     "output_type": "display_data"
    }
   ],
   "source": [
    "import numpy as np\n",
    "import matplotlib.pyplot as plt\n",
    "plt.style.use('seaborn-deep')\n",
    "\n",
    "\n",
    "# bins = np.linspace(0, 80, 40)\n",
    "\n",
    "plt.hist([carla_kitti_car_depths, kitti_car_depths], bins=40, range=[0, 80], label=['Carla-Kitti', 'Kitti'])\n",
    "plt.title(\"Distance distribution (Car)\")\n",
    "plt.ylabel(\"Number\")\n",
    "plt.xlabel(\"Distance (meter)\")\n",
    "plt.tight_layout()\n",
    "\n",
    "plt.legend(loc='upper right')\n",
    "plt.savefig(os.path.join(ds_name_ver, DATASET_NAME + '_car_depth.png'))\n",
    "plt.show()"
   ]
  },
  {
   "cell_type": "code",
   "execution_count": 12,
   "id": "color-blair",
   "metadata": {},
   "outputs": [
    {
     "data": {
      "image/png": "[encoded data removed]",
      "text/plain": [
       "<Figure size 432x288 with 1 Axes>"
      ]
     },
     "metadata": {
      "needs_background": "light"
     },
     "output_type": "display_data"
    }
   ],
   "source": [
    "_, bins, _ = plt.hist(carla_kitti_car_depths, bins=40, range=[0, 80], label=['Carla-Kitti'])\n",
    "_ = plt.hist(kitti_car_depths, bins=bins, alpha=0.5, label=['Kitti'])\n",
    "plt.legend(loc='upper right')\n",
    "plt.title(\"Distance distribution (Car)\")\n",
    "plt.ylabel(\"Number\")\n",
    "plt.xlabel(\"Distance (meter)\")\n",
    "plt.tight_layout()\n",
    "plt.savefig(os.path.join(ds_name_ver, DATASET_NAME + '_car_depth_alpha_ver.png'))\n",
    "plt.show()"
   ]
  },
  {
   "cell_type": "code",
   "execution_count": 13,
   "id": "buried-secretariat",
   "metadata": {},
   "outputs": [
    {
     "data": {
      "image/png": "[encoded data removed]",
      "text/plain": [
       "<Figure size 1080x360 with 3 Axes>"
      ]
     },
     "metadata": {
      "needs_background": "light"
     },
     "output_type": "display_data"
    }
   ],
   "source": [
    "# Create two subplots and unpack the output array immediately\n",
    "f, (ax1, ax2, ax3) = plt.subplots(1, 3, sharey=True, figsize=(15,5))\n",
    "# =======================Car 3D Bounding Box Length Distribution=======================\n",
    "_, bins, _ = ax1.hist(carla_kitti_car_length, bins=25, range=[2, 6], label=['Carla-Kitti'])\n",
    "_ = ax1.hist(kitti_car_length, bins=bins, alpha=0.6, label=['Kitti'])\n",
    "ax1.legend(loc='upper right')\n",
    "ax1.set_title(\"Car 3D Bounding Box Length Distribution\")\n",
    "ax1.set_ylabel(\"Number\")\n",
    "# ax1.set_ylim(1)\n",
    "ax1.set_xlabel(\"Meters\")\n",
    "# =======================Car 3D Bounding Box Width Distribution=======================\n",
    "_, bins, _ = ax2.hist(carla_kitti_car_width, bins=25, range=[1, 2.5], label=['Carla-Kitti'])\n",
    "_ = ax2.hist(kitti_car_width, bins=bins, alpha=0.5, label=['Kitti'])\n",
    "# ax2.legend(loc='upper right')\n",
    "ax2.set_title(\"Car 3D Bounding Box Width Distribution\")\n",
    "ax2.set_ylabel(\"Number\")\n",
    "# ax1.set_ylim(1)\n",
    "ax2.set_xlabel(\"Meters\")\n",
    "# =======================Car 3D Bounding Box Height Distribution=======================\n",
    "_, bins, _ = ax3.hist(carla_kitti_car_height, bins=25, range=[1, 2.5], label=['Carla-Kitti'])\n",
    "_ = ax3.hist(kitti_car_height, bins=bins, alpha=0.5, label=['Kitti'])\n",
    "# ax3.legend(loc='upper right')\n",
    "ax3.set_title(\"Car 3D Bounding Box Height Distribution\")\n",
    "ax3.set_ylabel(\"Number\")\n",
    "# ax1.set_ylim(1)\n",
    "ax3.set_xlabel(\"Meters\")\n",
    "plt.tight_layout()\n",
    "f.savefig(os.path.join(ds_name_ver, DATASET_NAME + '_Car 3D BBox Dists.png'))\n",
    "f.savefig(os.path.join(ds_name_ver, DATASET_NAME + '_Car 3D BBox Dists.pdf'))"
   ]
  },
  {
   "cell_type": "code",
   "execution_count": 14,
   "id": "revised-shirt",
   "metadata": {},
   "outputs": [],
   "source": [
    "carla_kitti_car_npoints5 = carla_kitti_car[carla_kitti_car['num_points_in_gt'] >= 5]"
   ]
  },
  {
   "cell_type": "code",
   "execution_count": 15,
   "id": "missing-workstation",
   "metadata": {},
   "outputs": [],
   "source": [
    "pd_prof = pandas_profiling.ProfileReport(carla_kitti_car_npoints5, minimal=True)"
   ]
  },
  {
   "cell_type": "code",
   "execution_count": 16,
   "id": "fitted-settle",
   "metadata": {},
   "outputs": [
    {
     "data": {
      "application/vnd.jupyter.widget-view+json": {
       "model_id": "9a28ada224e14a47a7e0d137a6e3e7b4",
       "version_major": 2,
       "version_minor": 0
      },
      "text/plain": [
       "Summarize dataset:   0%|          | 0/35 [00:00<?, ?it/s]"
      ]
     },
     "metadata": {},
     "output_type": "display_data"
    },
    {
     "data": {
      "application/vnd.jupyter.widget-view+json": {
       "model_id": "0abb9330e14345c5b8dc21dc4232d15f",
       "version_major": 2,
       "version_minor": 0
      },
      "text/plain": [
       "Generate report structure:   0%|          | 0/1 [00:00<?, ?it/s]"
      ]
     },
     "metadata": {},
     "output_type": "display_data"
    },
    {
     "data": {
      "application/vnd.jupyter.widget-view+json": {
       "model_id": "88a369dc83e548aca67f1fd069528cea",
       "version_major": 2,
       "version_minor": 0
      },
      "text/plain": [
       "Render HTML:   0%|          | 0/1 [00:00<?, ?it/s]"
      ]
     },
     "metadata": {},
     "output_type": "display_data"
    },
    {
     "data": {
      "application/vnd.jupyter.widget-view+json": {
       "model_id": "b060ea91b45f494ba14015522ea84c9f",
       "version_major": 2,
       "version_minor": 0
      },
      "text/plain": [
       "Export report to file:   0%|          | 0/1 [00:00<?, ?it/s]"
      ]
     },
     "metadata": {},
     "output_type": "display_data"
    }
   ],
   "source": [
    "pd_prof.to_file(os.path.join(ds_name_ver, DATASET_NAME + '_per_obj_Car_only_npoint5.html'))"
   ]
  }
 ],
 "metadata": {
  "kernelspec": {
   "display_name": "Python 3",
   "language": "python",
   "name": "python3"
  },
  "language_info": {
   "codemirror_mode": {
    "name": "ipython",
    "version": 3
   },
   "file_extension": ".py",
   "mimetype": "text/x-python",
   "name": "python",
   "nbconvert_exporter": "python",
   "pygments_lexer": "ipython3",
   "version": "3.8.8"
  }
 },
 "nbformat": 4,
 "nbformat_minor": 5
}
