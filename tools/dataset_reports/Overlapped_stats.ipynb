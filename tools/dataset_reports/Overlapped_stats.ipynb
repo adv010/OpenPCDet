{
 "cells": [
  {
   "cell_type": "code",
   "execution_count": 1,
   "id": "practical-sphere",
   "metadata": {},
   "outputs": [],
   "source": [
    "import pandas_profiling\n",
    "import pandas as pd\n",
    "import numpy as np"
   ]
  },
  {
   "cell_type": "code",
   "execution_count": 2,
   "id": "invisible-founder",
   "metadata": {},
   "outputs": [],
   "source": [
    "carla_kitti_per_obj_infos_pd = pd.read_pickle('carla-kitti_per_obj_infos_pd')"
   ]
  },
  {
   "cell_type": "code",
   "execution_count": 3,
   "id": "periodic-membership",
   "metadata": {},
   "outputs": [],
   "source": [
    "kitti_per_obj_infos_pd = pd.read_pickle('kitti_per_obj_infos_pd')"
   ]
  },
  {
   "cell_type": "code",
   "execution_count": 4,
   "id": "trained-kelly",
   "metadata": {
    "scrolled": true
   },
   "outputs": [
    {
     "data": {
      "text/html": [
       "<div>\n",
       "<style scoped>\n",
       "    .dataframe tbody tr th:only-of-type {\n",
       "        vertical-align: middle;\n",
       "    }\n",
       "\n",
       "    .dataframe tbody tr th {\n",
       "        vertical-align: top;\n",
       "    }\n",
       "\n",
       "    .dataframe thead th {\n",
       "        text-align: right;\n",
       "    }\n",
       "</style>\n",
       "<table border=\"1\" class=\"dataframe\">\n",
       "  <thead>\n",
       "    <tr style=\"text-align: right;\">\n",
       "      <th></th>\n",
       "      <th>name</th>\n",
       "      <th>truncated</th>\n",
       "      <th>occluded</th>\n",
       "      <th>alpha (radian)</th>\n",
       "      <th>bbox_left (pixel)</th>\n",
       "      <th>bbox_top (pixel)</th>\n",
       "      <th>bbox_right (pixel)</th>\n",
       "      <th>bbox_bottom (pixel)</th>\n",
       "      <th>dimensions_height (meters)</th>\n",
       "      <th>dimensions_width (meters)</th>\n",
       "      <th>...</th>\n",
       "      <th>score</th>\n",
       "      <th>difficulty</th>\n",
       "      <th>loc_x (meter)</th>\n",
       "      <th>loc_y (meter)</th>\n",
       "      <th>loc_z (meter)</th>\n",
       "      <th>dim_x (meter)</th>\n",
       "      <th>dim_y (meter)</th>\n",
       "      <th>dim_z (meter)</th>\n",
       "      <th>rotation_y_lidar (radian)</th>\n",
       "      <th>num_points_in_gt</th>\n",
       "    </tr>\n",
       "  </thead>\n",
       "  <tbody>\n",
       "    <tr>\n",
       "      <th>0</th>\n",
       "      <td>Pedestrian</td>\n",
       "      <td>0.04</td>\n",
       "      <td>1.0</td>\n",
       "      <td>-1.97</td>\n",
       "      <td>1026.0</td>\n",
       "      <td>155.0</td>\n",
       "      <td>1164.0</td>\n",
       "      <td>384.0</td>\n",
       "      <td>0.68</td>\n",
       "      <td>1.86</td>\n",
       "      <td>...</td>\n",
       "      <td>-1.0</td>\n",
       "      <td>1</td>\n",
       "      <td>5.240000</td>\n",
       "      <td>-3.92</td>\n",
       "      <td>-0.640</td>\n",
       "      <td>0.68</td>\n",
       "      <td>0.68</td>\n",
       "      <td>1.86</td>\n",
       "      <td>-0.130796</td>\n",
       "      <td>308</td>\n",
       "    </tr>\n",
       "    <tr>\n",
       "      <th>1</th>\n",
       "      <td>Pedestrian</td>\n",
       "      <td>0.00</td>\n",
       "      <td>0.0</td>\n",
       "      <td>0.40</td>\n",
       "      <td>634.0</td>\n",
       "      <td>187.0</td>\n",
       "      <td>646.0</td>\n",
       "      <td>214.0</td>\n",
       "      <td>0.68</td>\n",
       "      <td>1.86</td>\n",
       "      <td>...</td>\n",
       "      <td>-1.0</td>\n",
       "      <td>1</td>\n",
       "      <td>43.380001</td>\n",
       "      <td>-1.15</td>\n",
       "      <td>-0.630</td>\n",
       "      <td>0.68</td>\n",
       "      <td>0.68</td>\n",
       "      <td>1.86</td>\n",
       "      <td>-2.000796</td>\n",
       "      <td>5</td>\n",
       "    </tr>\n",
       "    <tr>\n",
       "      <th>2</th>\n",
       "      <td>Pedestrian</td>\n",
       "      <td>0.00</td>\n",
       "      <td>0.0</td>\n",
       "      <td>1.19</td>\n",
       "      <td>853.0</td>\n",
       "      <td>176.0</td>\n",
       "      <td>902.0</td>\n",
       "      <td>273.0</td>\n",
       "      <td>0.68</td>\n",
       "      <td>1.86</td>\n",
       "      <td>...</td>\n",
       "      <td>-1.0</td>\n",
       "      <td>0</td>\n",
       "      <td>12.360000</td>\n",
       "      <td>-5.01</td>\n",
       "      <td>-0.640</td>\n",
       "      <td>0.68</td>\n",
       "      <td>0.68</td>\n",
       "      <td>1.86</td>\n",
       "      <td>-3.110796</td>\n",
       "      <td>67</td>\n",
       "    </tr>\n",
       "    <tr>\n",
       "      <th>3</th>\n",
       "      <td>Pedestrian</td>\n",
       "      <td>0.00</td>\n",
       "      <td>0.0</td>\n",
       "      <td>-1.77</td>\n",
       "      <td>512.0</td>\n",
       "      <td>196.0</td>\n",
       "      <td>518.0</td>\n",
       "      <td>207.0</td>\n",
       "      <td>0.50</td>\n",
       "      <td>1.10</td>\n",
       "      <td>...</td>\n",
       "      <td>-1.0</td>\n",
       "      <td>-1</td>\n",
       "      <td>63.849998</td>\n",
       "      <td>11.09</td>\n",
       "      <td>-1.000</td>\n",
       "      <td>0.50</td>\n",
       "      <td>0.50</td>\n",
       "      <td>1.10</td>\n",
       "      <td>0.029204</td>\n",
       "      <td>1</td>\n",
       "    </tr>\n",
       "    <tr>\n",
       "      <th>4</th>\n",
       "      <td>Pedestrian</td>\n",
       "      <td>0.00</td>\n",
       "      <td>0.0</td>\n",
       "      <td>0.86</td>\n",
       "      <td>654.0</td>\n",
       "      <td>187.0</td>\n",
       "      <td>668.0</td>\n",
       "      <td>215.0</td>\n",
       "      <td>0.68</td>\n",
       "      <td>1.86</td>\n",
       "      <td>...</td>\n",
       "      <td>-1.0</td>\n",
       "      <td>1</td>\n",
       "      <td>42.259998</td>\n",
       "      <td>-2.55</td>\n",
       "      <td>-0.630</td>\n",
       "      <td>0.68</td>\n",
       "      <td>0.68</td>\n",
       "      <td>1.86</td>\n",
       "      <td>-2.490796</td>\n",
       "      <td>7</td>\n",
       "    </tr>\n",
       "    <tr>\n",
       "      <th>...</th>\n",
       "      <td>...</td>\n",
       "      <td>...</td>\n",
       "      <td>...</td>\n",
       "      <td>...</td>\n",
       "      <td>...</td>\n",
       "      <td>...</td>\n",
       "      <td>...</td>\n",
       "      <td>...</td>\n",
       "      <td>...</td>\n",
       "      <td>...</td>\n",
       "      <td>...</td>\n",
       "      <td>...</td>\n",
       "      <td>...</td>\n",
       "      <td>...</td>\n",
       "      <td>...</td>\n",
       "      <td>...</td>\n",
       "      <td>...</td>\n",
       "      <td>...</td>\n",
       "      <td>...</td>\n",
       "      <td>...</td>\n",
       "      <td>...</td>\n",
       "    </tr>\n",
       "    <tr>\n",
       "      <th>23063</th>\n",
       "      <td>Pedestrian</td>\n",
       "      <td>0.00</td>\n",
       "      <td>2.0</td>\n",
       "      <td>1.30</td>\n",
       "      <td>488.0</td>\n",
       "      <td>197.0</td>\n",
       "      <td>495.0</td>\n",
       "      <td>211.0</td>\n",
       "      <td>0.50</td>\n",
       "      <td>1.10</td>\n",
       "      <td>...</td>\n",
       "      <td>-1.0</td>\n",
       "      <td>-1</td>\n",
       "      <td>48.740002</td>\n",
       "      <td>10.32</td>\n",
       "      <td>-0.960</td>\n",
       "      <td>0.50</td>\n",
       "      <td>0.50</td>\n",
       "      <td>1.10</td>\n",
       "      <td>-3.070796</td>\n",
       "      <td>1</td>\n",
       "    </tr>\n",
       "    <tr>\n",
       "      <th>23064</th>\n",
       "      <td>Pedestrian</td>\n",
       "      <td>0.00</td>\n",
       "      <td>2.0</td>\n",
       "      <td>-0.16</td>\n",
       "      <td>462.0</td>\n",
       "      <td>188.0</td>\n",
       "      <td>470.0</td>\n",
       "      <td>205.0</td>\n",
       "      <td>0.68</td>\n",
       "      <td>1.86</td>\n",
       "      <td>...</td>\n",
       "      <td>-1.0</td>\n",
       "      <td>-1</td>\n",
       "      <td>69.150002</td>\n",
       "      <td>17.50</td>\n",
       "      <td>-0.560</td>\n",
       "      <td>0.68</td>\n",
       "      <td>0.68</td>\n",
       "      <td>1.86</td>\n",
       "      <td>-1.650796</td>\n",
       "      <td>0</td>\n",
       "    </tr>\n",
       "    <tr>\n",
       "      <th>23065</th>\n",
       "      <td>Pedestrian</td>\n",
       "      <td>0.00</td>\n",
       "      <td>0.0</td>\n",
       "      <td>-1.63</td>\n",
       "      <td>653.0</td>\n",
       "      <td>196.0</td>\n",
       "      <td>659.0</td>\n",
       "      <td>208.0</td>\n",
       "      <td>0.50</td>\n",
       "      <td>1.10</td>\n",
       "      <td>...</td>\n",
       "      <td>-1.0</td>\n",
       "      <td>-1</td>\n",
       "      <td>57.820000</td>\n",
       "      <td>-3.04</td>\n",
       "      <td>-0.960</td>\n",
       "      <td>0.50</td>\n",
       "      <td>0.50</td>\n",
       "      <td>1.10</td>\n",
       "      <td>-0.000796</td>\n",
       "      <td>0</td>\n",
       "    </tr>\n",
       "    <tr>\n",
       "      <th>23066</th>\n",
       "      <td>Car</td>\n",
       "      <td>0.00</td>\n",
       "      <td>0.0</td>\n",
       "      <td>-1.58</td>\n",
       "      <td>608.0</td>\n",
       "      <td>195.0</td>\n",
       "      <td>651.0</td>\n",
       "      <td>225.0</td>\n",
       "      <td>4.79</td>\n",
       "      <td>1.49</td>\n",
       "      <td>...</td>\n",
       "      <td>-1.0</td>\n",
       "      <td>1</td>\n",
       "      <td>33.580002</td>\n",
       "      <td>-0.30</td>\n",
       "      <td>-0.955</td>\n",
       "      <td>4.79</td>\n",
       "      <td>2.16</td>\n",
       "      <td>1.49</td>\n",
       "      <td>-0.000796</td>\n",
       "      <td>59</td>\n",
       "    </tr>\n",
       "    <tr>\n",
       "      <th>23067</th>\n",
       "      <td>Car</td>\n",
       "      <td>0.00</td>\n",
       "      <td>0.0</td>\n",
       "      <td>-0.37</td>\n",
       "      <td>39.0</td>\n",
       "      <td>205.0</td>\n",
       "      <td>368.0</td>\n",
       "      <td>290.0</td>\n",
       "      <td>5.36</td>\n",
       "      <td>1.41</td>\n",
       "      <td>...</td>\n",
       "      <td>-1.0</td>\n",
       "      <td>0</td>\n",
       "      <td>12.120000</td>\n",
       "      <td>8.00</td>\n",
       "      <td>-0.995</td>\n",
       "      <td>5.36</td>\n",
       "      <td>2.03</td>\n",
       "      <td>1.41</td>\n",
       "      <td>-1.730796</td>\n",
       "      <td>622</td>\n",
       "    </tr>\n",
       "  </tbody>\n",
       "</table>\n",
       "<p>23068 rows × 25 columns</p>\n",
       "</div>"
      ],
      "text/plain": [
       "             name  truncated  occluded  alpha (radian)  bbox_left (pixel)  \\\n",
       "0      Pedestrian       0.04       1.0           -1.97             1026.0   \n",
       "1      Pedestrian       0.00       0.0            0.40              634.0   \n",
       "2      Pedestrian       0.00       0.0            1.19              853.0   \n",
       "3      Pedestrian       0.00       0.0           -1.77              512.0   \n",
       "4      Pedestrian       0.00       0.0            0.86              654.0   \n",
       "...           ...        ...       ...             ...                ...   \n",
       "23063  Pedestrian       0.00       2.0            1.30              488.0   \n",
       "23064  Pedestrian       0.00       2.0           -0.16              462.0   \n",
       "23065  Pedestrian       0.00       0.0           -1.63              653.0   \n",
       "23066         Car       0.00       0.0           -1.58              608.0   \n",
       "23067         Car       0.00       0.0           -0.37               39.0   \n",
       "\n",
       "       bbox_top (pixel)  bbox_right (pixel)  bbox_bottom (pixel)  \\\n",
       "0                 155.0              1164.0                384.0   \n",
       "1                 187.0               646.0                214.0   \n",
       "2                 176.0               902.0                273.0   \n",
       "3                 196.0               518.0                207.0   \n",
       "4                 187.0               668.0                215.0   \n",
       "...                 ...                 ...                  ...   \n",
       "23063             197.0               495.0                211.0   \n",
       "23064             188.0               470.0                205.0   \n",
       "23065             196.0               659.0                208.0   \n",
       "23066             195.0               651.0                225.0   \n",
       "23067             205.0               368.0                290.0   \n",
       "\n",
       "       dimensions_height (meters)  dimensions_width (meters)  ...  score  \\\n",
       "0                            0.68                       1.86  ...   -1.0   \n",
       "1                            0.68                       1.86  ...   -1.0   \n",
       "2                            0.68                       1.86  ...   -1.0   \n",
       "3                            0.50                       1.10  ...   -1.0   \n",
       "4                            0.68                       1.86  ...   -1.0   \n",
       "...                           ...                        ...  ...    ...   \n",
       "23063                        0.50                       1.10  ...   -1.0   \n",
       "23064                        0.68                       1.86  ...   -1.0   \n",
       "23065                        0.50                       1.10  ...   -1.0   \n",
       "23066                        4.79                       1.49  ...   -1.0   \n",
       "23067                        5.36                       1.41  ...   -1.0   \n",
       "\n",
       "       difficulty  loc_x (meter)  loc_y (meter)  loc_z (meter)  dim_x (meter)  \\\n",
       "0               1       5.240000          -3.92         -0.640           0.68   \n",
       "1               1      43.380001          -1.15         -0.630           0.68   \n",
       "2               0      12.360000          -5.01         -0.640           0.68   \n",
       "3              -1      63.849998          11.09         -1.000           0.50   \n",
       "4               1      42.259998          -2.55         -0.630           0.68   \n",
       "...           ...            ...            ...            ...            ...   \n",
       "23063          -1      48.740002          10.32         -0.960           0.50   \n",
       "23064          -1      69.150002          17.50         -0.560           0.68   \n",
       "23065          -1      57.820000          -3.04         -0.960           0.50   \n",
       "23066           1      33.580002          -0.30         -0.955           4.79   \n",
       "23067           0      12.120000           8.00         -0.995           5.36   \n",
       "\n",
       "       dim_y (meter)  dim_z (meter)  rotation_y_lidar (radian)  \\\n",
       "0               0.68           1.86                  -0.130796   \n",
       "1               0.68           1.86                  -2.000796   \n",
       "2               0.68           1.86                  -3.110796   \n",
       "3               0.50           1.10                   0.029204   \n",
       "4               0.68           1.86                  -2.490796   \n",
       "...              ...            ...                        ...   \n",
       "23063           0.50           1.10                  -3.070796   \n",
       "23064           0.68           1.86                  -1.650796   \n",
       "23065           0.50           1.10                  -0.000796   \n",
       "23066           2.16           1.49                  -0.000796   \n",
       "23067           2.03           1.41                  -1.730796   \n",
       "\n",
       "       num_points_in_gt  \n",
       "0                   308  \n",
       "1                     5  \n",
       "2                    67  \n",
       "3                     1  \n",
       "4                     7  \n",
       "...                 ...  \n",
       "23063                 1  \n",
       "23064                 0  \n",
       "23065                 0  \n",
       "23066                59  \n",
       "23067               622  \n",
       "\n",
       "[23068 rows x 25 columns]"
      ]
     },
     "execution_count": 4,
     "metadata": {},
     "output_type": "execute_result"
    }
   ],
   "source": [
    "carla_kitti_per_obj_infos_pd"
   ]
  },
  {
   "cell_type": "code",
   "execution_count": 5,
   "id": "younger-reunion",
   "metadata": {
    "scrolled": false
   },
   "outputs": [
    {
     "data": {
      "text/html": [
       "<div>\n",
       "<style scoped>\n",
       "    .dataframe tbody tr th:only-of-type {\n",
       "        vertical-align: middle;\n",
       "    }\n",
       "\n",
       "    .dataframe tbody tr th {\n",
       "        vertical-align: top;\n",
       "    }\n",
       "\n",
       "    .dataframe thead th {\n",
       "        text-align: right;\n",
       "    }\n",
       "</style>\n",
       "<table border=\"1\" class=\"dataframe\">\n",
       "  <thead>\n",
       "    <tr style=\"text-align: right;\">\n",
       "      <th></th>\n",
       "      <th>name</th>\n",
       "      <th>truncated</th>\n",
       "      <th>occluded</th>\n",
       "      <th>alpha (radian)</th>\n",
       "      <th>bbox_left (pixel)</th>\n",
       "      <th>bbox_top (pixel)</th>\n",
       "      <th>bbox_right (pixel)</th>\n",
       "      <th>bbox_bottom (pixel)</th>\n",
       "      <th>dimensions_height (meters)</th>\n",
       "      <th>dimensions_width (meters)</th>\n",
       "      <th>...</th>\n",
       "      <th>score</th>\n",
       "      <th>difficulty</th>\n",
       "      <th>loc_x (meter)</th>\n",
       "      <th>loc_y (meter)</th>\n",
       "      <th>loc_z (meter)</th>\n",
       "      <th>dim_x (meter)</th>\n",
       "      <th>dim_y (meter)</th>\n",
       "      <th>dim_z (meter)</th>\n",
       "      <th>rotation_y_lidar (radian)</th>\n",
       "      <th>num_points_in_gt</th>\n",
       "    </tr>\n",
       "  </thead>\n",
       "  <tbody>\n",
       "    <tr>\n",
       "      <th>0</th>\n",
       "      <td>Pedestrian</td>\n",
       "      <td>0.0</td>\n",
       "      <td>0.0</td>\n",
       "      <td>-0.20</td>\n",
       "      <td>712.400024</td>\n",
       "      <td>143.000000</td>\n",
       "      <td>810.729980</td>\n",
       "      <td>307.920013</td>\n",
       "      <td>1.20</td>\n",
       "      <td>1.89</td>\n",
       "      <td>...</td>\n",
       "      <td>-1.0</td>\n",
       "      <td>0</td>\n",
       "      <td>8.731381</td>\n",
       "      <td>-1.855917</td>\n",
       "      <td>-0.654699</td>\n",
       "      <td>1.20</td>\n",
       "      <td>0.48</td>\n",
       "      <td>1.89</td>\n",
       "      <td>-1.580796</td>\n",
       "      <td>377</td>\n",
       "    </tr>\n",
       "    <tr>\n",
       "      <th>1</th>\n",
       "      <td>Car</td>\n",
       "      <td>0.0</td>\n",
       "      <td>0.0</td>\n",
       "      <td>1.55</td>\n",
       "      <td>614.239990</td>\n",
       "      <td>181.779999</td>\n",
       "      <td>727.309998</td>\n",
       "      <td>284.769989</td>\n",
       "      <td>4.15</td>\n",
       "      <td>1.57</td>\n",
       "      <td>...</td>\n",
       "      <td>-1.0</td>\n",
       "      <td>0</td>\n",
       "      <td>13.510703</td>\n",
       "      <td>-0.981780</td>\n",
       "      <td>-0.909490</td>\n",
       "      <td>4.15</td>\n",
       "      <td>1.73</td>\n",
       "      <td>1.57</td>\n",
       "      <td>-3.190796</td>\n",
       "      <td>674</td>\n",
       "    </tr>\n",
       "    <tr>\n",
       "      <th>2</th>\n",
       "      <td>Car</td>\n",
       "      <td>0.0</td>\n",
       "      <td>0.0</td>\n",
       "      <td>-1.56</td>\n",
       "      <td>564.619995</td>\n",
       "      <td>174.589996</td>\n",
       "      <td>616.429993</td>\n",
       "      <td>224.740005</td>\n",
       "      <td>3.20</td>\n",
       "      <td>1.61</td>\n",
       "      <td>...</td>\n",
       "      <td>-1.0</td>\n",
       "      <td>0</td>\n",
       "      <td>25.299036</td>\n",
       "      <td>0.708958</td>\n",
       "      <td>-0.688423</td>\n",
       "      <td>3.20</td>\n",
       "      <td>1.66</td>\n",
       "      <td>1.61</td>\n",
       "      <td>0.019204</td>\n",
       "      <td>182</td>\n",
       "    </tr>\n",
       "    <tr>\n",
       "      <th>3</th>\n",
       "      <td>Car</td>\n",
       "      <td>0.0</td>\n",
       "      <td>0.0</td>\n",
       "      <td>1.71</td>\n",
       "      <td>481.589996</td>\n",
       "      <td>180.089996</td>\n",
       "      <td>512.549988</td>\n",
       "      <td>202.419998</td>\n",
       "      <td>3.70</td>\n",
       "      <td>1.40</td>\n",
       "      <td>...</td>\n",
       "      <td>-1.0</td>\n",
       "      <td>-1</td>\n",
       "      <td>47.838207</td>\n",
       "      <td>7.453393</td>\n",
       "      <td>-0.676632</td>\n",
       "      <td>3.70</td>\n",
       "      <td>1.51</td>\n",
       "      <td>1.40</td>\n",
       "      <td>-3.120796</td>\n",
       "      <td>20</td>\n",
       "    </tr>\n",
       "    <tr>\n",
       "      <th>4</th>\n",
       "      <td>Car</td>\n",
       "      <td>0.0</td>\n",
       "      <td>0.0</td>\n",
       "      <td>1.64</td>\n",
       "      <td>542.049988</td>\n",
       "      <td>175.550003</td>\n",
       "      <td>565.270020</td>\n",
       "      <td>193.789993</td>\n",
       "      <td>4.05</td>\n",
       "      <td>1.46</td>\n",
       "      <td>...</td>\n",
       "      <td>-1.0</td>\n",
       "      <td>-1</td>\n",
       "      <td>60.806362</td>\n",
       "      <td>4.733361</td>\n",
       "      <td>-0.369830</td>\n",
       "      <td>4.05</td>\n",
       "      <td>1.66</td>\n",
       "      <td>1.46</td>\n",
       "      <td>-3.130796</td>\n",
       "      <td>5</td>\n",
       "    </tr>\n",
       "    <tr>\n",
       "      <th>...</th>\n",
       "      <td>...</td>\n",
       "      <td>...</td>\n",
       "      <td>...</td>\n",
       "      <td>...</td>\n",
       "      <td>...</td>\n",
       "      <td>...</td>\n",
       "      <td>...</td>\n",
       "      <td>...</td>\n",
       "      <td>...</td>\n",
       "      <td>...</td>\n",
       "      <td>...</td>\n",
       "      <td>...</td>\n",
       "      <td>...</td>\n",
       "      <td>...</td>\n",
       "      <td>...</td>\n",
       "      <td>...</td>\n",
       "      <td>...</td>\n",
       "      <td>...</td>\n",
       "      <td>...</td>\n",
       "      <td>...</td>\n",
       "      <td>...</td>\n",
       "    </tr>\n",
       "    <tr>\n",
       "      <th>19695</th>\n",
       "      <td>Car</td>\n",
       "      <td>0.0</td>\n",
       "      <td>0.0</td>\n",
       "      <td>2.06</td>\n",
       "      <td>498.890015</td>\n",
       "      <td>186.740005</td>\n",
       "      <td>759.599976</td>\n",
       "      <td>333.700012</td>\n",
       "      <td>3.99</td>\n",
       "      <td>1.46</td>\n",
       "      <td>...</td>\n",
       "      <td>-1.0</td>\n",
       "      <td>0</td>\n",
       "      <td>9.859935</td>\n",
       "      <td>-0.423110</td>\n",
       "      <td>-0.916730</td>\n",
       "      <td>3.99</td>\n",
       "      <td>1.74</td>\n",
       "      <td>1.46</td>\n",
       "      <td>-3.670796</td>\n",
       "      <td>1560</td>\n",
       "    </tr>\n",
       "    <tr>\n",
       "      <th>19696</th>\n",
       "      <td>Car</td>\n",
       "      <td>0.0</td>\n",
       "      <td>1.0</td>\n",
       "      <td>1.82</td>\n",
       "      <td>654.409973</td>\n",
       "      <td>185.960007</td>\n",
       "      <td>752.380005</td>\n",
       "      <td>245.050003</td>\n",
       "      <td>4.29</td>\n",
       "      <td>1.42</td>\n",
       "      <td>...</td>\n",
       "      <td>-1.0</td>\n",
       "      <td>1</td>\n",
       "      <td>20.501448</td>\n",
       "      <td>-2.670077</td>\n",
       "      <td>-0.999280</td>\n",
       "      <td>4.29</td>\n",
       "      <td>1.68</td>\n",
       "      <td>1.42</td>\n",
       "      <td>-3.520796</td>\n",
       "      <td>68</td>\n",
       "    </tr>\n",
       "    <tr>\n",
       "      <th>19697</th>\n",
       "      <td>Car</td>\n",
       "      <td>0.0</td>\n",
       "      <td>2.0</td>\n",
       "      <td>1.76</td>\n",
       "      <td>729.469971</td>\n",
       "      <td>184.250000</td>\n",
       "      <td>786.080017</td>\n",
       "      <td>224.100006</td>\n",
       "      <td>3.80</td>\n",
       "      <td>1.36</td>\n",
       "      <td>...</td>\n",
       "      <td>-1.0</td>\n",
       "      <td>2</td>\n",
       "      <td>27.511644</td>\n",
       "      <td>-5.579149</td>\n",
       "      <td>-0.976757</td>\n",
       "      <td>3.80</td>\n",
       "      <td>1.40</td>\n",
       "      <td>1.36</td>\n",
       "      <td>-3.530796</td>\n",
       "      <td>16</td>\n",
       "    </tr>\n",
       "    <tr>\n",
       "      <th>19698</th>\n",
       "      <td>Van</td>\n",
       "      <td>0.0</td>\n",
       "      <td>1.0</td>\n",
       "      <td>1.60</td>\n",
       "      <td>801.700012</td>\n",
       "      <td>162.110001</td>\n",
       "      <td>837.520020</td>\n",
       "      <td>202.619995</td>\n",
       "      <td>5.64</td>\n",
       "      <td>2.52</td>\n",
       "      <td>...</td>\n",
       "      <td>-1.0</td>\n",
       "      <td>1</td>\n",
       "      <td>48.253315</td>\n",
       "      <td>-13.955256</td>\n",
       "      <td>-0.348510</td>\n",
       "      <td>5.64</td>\n",
       "      <td>2.10</td>\n",
       "      <td>2.52</td>\n",
       "      <td>-3.450796</td>\n",
       "      <td>75</td>\n",
       "    </tr>\n",
       "    <tr>\n",
       "      <th>19699</th>\n",
       "      <td>Car</td>\n",
       "      <td>0.0</td>\n",
       "      <td>2.0</td>\n",
       "      <td>1.61</td>\n",
       "      <td>786.590027</td>\n",
       "      <td>180.699997</td>\n",
       "      <td>820.400024</td>\n",
       "      <td>208.380005</td>\n",
       "      <td>2.96</td>\n",
       "      <td>1.44</td>\n",
       "      <td>...</td>\n",
       "      <td>-1.0</td>\n",
       "      <td>2</td>\n",
       "      <td>39.832985</td>\n",
       "      <td>-10.586491</td>\n",
       "      <td>-0.940911</td>\n",
       "      <td>2.96</td>\n",
       "      <td>1.65</td>\n",
       "      <td>1.44</td>\n",
       "      <td>-3.440796</td>\n",
       "      <td>0</td>\n",
       "    </tr>\n",
       "  </tbody>\n",
       "</table>\n",
       "<p>19700 rows × 25 columns</p>\n",
       "</div>"
      ],
      "text/plain": [
       "             name  truncated  occluded  alpha (radian)  bbox_left (pixel)  \\\n",
       "0      Pedestrian        0.0       0.0           -0.20         712.400024   \n",
       "1             Car        0.0       0.0            1.55         614.239990   \n",
       "2             Car        0.0       0.0           -1.56         564.619995   \n",
       "3             Car        0.0       0.0            1.71         481.589996   \n",
       "4             Car        0.0       0.0            1.64         542.049988   \n",
       "...           ...        ...       ...             ...                ...   \n",
       "19695         Car        0.0       0.0            2.06         498.890015   \n",
       "19696         Car        0.0       1.0            1.82         654.409973   \n",
       "19697         Car        0.0       2.0            1.76         729.469971   \n",
       "19698         Van        0.0       1.0            1.60         801.700012   \n",
       "19699         Car        0.0       2.0            1.61         786.590027   \n",
       "\n",
       "       bbox_top (pixel)  bbox_right (pixel)  bbox_bottom (pixel)  \\\n",
       "0            143.000000          810.729980           307.920013   \n",
       "1            181.779999          727.309998           284.769989   \n",
       "2            174.589996          616.429993           224.740005   \n",
       "3            180.089996          512.549988           202.419998   \n",
       "4            175.550003          565.270020           193.789993   \n",
       "...                 ...                 ...                  ...   \n",
       "19695        186.740005          759.599976           333.700012   \n",
       "19696        185.960007          752.380005           245.050003   \n",
       "19697        184.250000          786.080017           224.100006   \n",
       "19698        162.110001          837.520020           202.619995   \n",
       "19699        180.699997          820.400024           208.380005   \n",
       "\n",
       "       dimensions_height (meters)  dimensions_width (meters)  ...  score  \\\n",
       "0                            1.20                       1.89  ...   -1.0   \n",
       "1                            4.15                       1.57  ...   -1.0   \n",
       "2                            3.20                       1.61  ...   -1.0   \n",
       "3                            3.70                       1.40  ...   -1.0   \n",
       "4                            4.05                       1.46  ...   -1.0   \n",
       "...                           ...                        ...  ...    ...   \n",
       "19695                        3.99                       1.46  ...   -1.0   \n",
       "19696                        4.29                       1.42  ...   -1.0   \n",
       "19697                        3.80                       1.36  ...   -1.0   \n",
       "19698                        5.64                       2.52  ...   -1.0   \n",
       "19699                        2.96                       1.44  ...   -1.0   \n",
       "\n",
       "       difficulty  loc_x (meter)  loc_y (meter)  loc_z (meter)  dim_x (meter)  \\\n",
       "0               0       8.731381      -1.855917      -0.654699           1.20   \n",
       "1               0      13.510703      -0.981780      -0.909490           4.15   \n",
       "2               0      25.299036       0.708958      -0.688423           3.20   \n",
       "3              -1      47.838207       7.453393      -0.676632           3.70   \n",
       "4              -1      60.806362       4.733361      -0.369830           4.05   \n",
       "...           ...            ...            ...            ...            ...   \n",
       "19695           0       9.859935      -0.423110      -0.916730           3.99   \n",
       "19696           1      20.501448      -2.670077      -0.999280           4.29   \n",
       "19697           2      27.511644      -5.579149      -0.976757           3.80   \n",
       "19698           1      48.253315     -13.955256      -0.348510           5.64   \n",
       "19699           2      39.832985     -10.586491      -0.940911           2.96   \n",
       "\n",
       "       dim_y (meter)  dim_z (meter)  rotation_y_lidar (radian)  \\\n",
       "0               0.48           1.89                  -1.580796   \n",
       "1               1.73           1.57                  -3.190796   \n",
       "2               1.66           1.61                   0.019204   \n",
       "3               1.51           1.40                  -3.120796   \n",
       "4               1.66           1.46                  -3.130796   \n",
       "...              ...            ...                        ...   \n",
       "19695           1.74           1.46                  -3.670796   \n",
       "19696           1.68           1.42                  -3.520796   \n",
       "19697           1.40           1.36                  -3.530796   \n",
       "19698           2.10           2.52                  -3.450796   \n",
       "19699           1.65           1.44                  -3.440796   \n",
       "\n",
       "       num_points_in_gt  \n",
       "0                   377  \n",
       "1                   674  \n",
       "2                   182  \n",
       "3                    20  \n",
       "4                     5  \n",
       "...                 ...  \n",
       "19695              1560  \n",
       "19696                68  \n",
       "19697                16  \n",
       "19698                75  \n",
       "19699                 0  \n",
       "\n",
       "[19700 rows x 25 columns]"
      ]
     },
     "execution_count": 5,
     "metadata": {},
     "output_type": "execute_result"
    }
   ],
   "source": [
    "kitti_per_obj_infos_pd"
   ]
  },
  {
   "cell_type": "code",
   "execution_count": 6,
   "id": "modular-malta",
   "metadata": {
    "scrolled": true
   },
   "outputs": [
    {
     "data": {
      "application/vnd.jupyter.widget-view+json": {
       "model_id": "b339106cb8c047e3820eff91d324ed1b",
       "version_major": 2,
       "version_minor": 0
      },
      "text/plain": [
       "Summarize dataset:   0%|          | 0/34 [00:00<?, ?it/s]"
      ]
     },
     "metadata": {},
     "output_type": "display_data"
    },
    {
     "data": {
      "application/vnd.jupyter.widget-view+json": {
       "model_id": "47e439cb0fff46c687376e3eca108880",
       "version_major": 2,
       "version_minor": 0
      },
      "text/plain": [
       "Generate report structure:   0%|          | 0/1 [00:00<?, ?it/s]"
      ]
     },
     "metadata": {},
     "output_type": "display_data"
    },
    {
     "data": {
      "application/vnd.jupyter.widget-view+json": {
       "model_id": "ae342f1fd0534327b43d8ecea3193082",
       "version_major": 2,
       "version_minor": 0
      },
      "text/plain": [
       "Render HTML:   0%|          | 0/1 [00:00<?, ?it/s]"
      ]
     },
     "metadata": {},
     "output_type": "display_data"
    },
    {
     "data": {
      "application/vnd.jupyter.widget-view+json": {
       "model_id": "a6b2f81a15774f95984ec3abff4d434b",
       "version_major": 2,
       "version_minor": 0
      },
      "text/plain": [
       "Export report to file:   0%|          | 0/1 [00:00<?, ?it/s]"
      ]
     },
     "metadata": {},
     "output_type": "display_data"
    },
    {
     "data": {
      "application/vnd.jupyter.widget-view+json": {
       "model_id": "863a1d02b8e649d390d78768ecf8fc0b",
       "version_major": 2,
       "version_minor": 0
      },
      "text/plain": [
       "Summarize dataset:   0%|          | 0/34 [00:00<?, ?it/s]"
      ]
     },
     "metadata": {},
     "output_type": "display_data"
    },
    {
     "data": {
      "application/vnd.jupyter.widget-view+json": {
       "model_id": "8b060f4a251c47eb938d423c2dad49dc",
       "version_major": 2,
       "version_minor": 0
      },
      "text/plain": [
       "Generate report structure:   0%|          | 0/1 [00:00<?, ?it/s]"
      ]
     },
     "metadata": {},
     "output_type": "display_data"
    },
    {
     "data": {
      "application/vnd.jupyter.widget-view+json": {
       "model_id": "3a9e1b66401a432e8bc339e6cc0fa435",
       "version_major": 2,
       "version_minor": 0
      },
      "text/plain": [
       "Render HTML:   0%|          | 0/1 [00:00<?, ?it/s]"
      ]
     },
     "metadata": {},
     "output_type": "display_data"
    },
    {
     "data": {
      "application/vnd.jupyter.widget-view+json": {
       "model_id": "a411206a84134d70878b39d54128a055",
       "version_major": 2,
       "version_minor": 0
      },
      "text/plain": [
       "Export report to file:   0%|          | 0/1 [00:00<?, ?it/s]"
      ]
     },
     "metadata": {},
     "output_type": "display_data"
    },
    {
     "data": {
      "application/vnd.jupyter.widget-view+json": {
       "model_id": "3619a98d09e54e799e152ed7a4242d36",
       "version_major": 2,
       "version_minor": 0
      },
      "text/plain": [
       "Summarize dataset:   0%|          | 0/34 [00:00<?, ?it/s]"
      ]
     },
     "metadata": {},
     "output_type": "display_data"
    },
    {
     "data": {
      "application/vnd.jupyter.widget-view+json": {
       "model_id": "67b37d8f1d0546faafa2cf9ab7aa0966",
       "version_major": 2,
       "version_minor": 0
      },
      "text/plain": [
       "Generate report structure:   0%|          | 0/1 [00:00<?, ?it/s]"
      ]
     },
     "metadata": {},
     "output_type": "display_data"
    },
    {
     "data": {
      "application/vnd.jupyter.widget-view+json": {
       "model_id": "251d1507897e48bf8e73373525465210",
       "version_major": 2,
       "version_minor": 0
      },
      "text/plain": [
       "Render HTML:   0%|          | 0/1 [00:00<?, ?it/s]"
      ]
     },
     "metadata": {},
     "output_type": "display_data"
    },
    {
     "data": {
      "application/vnd.jupyter.widget-view+json": {
       "model_id": "9366e42a9b22497ca6bdd7eedc9949d1",
       "version_major": 2,
       "version_minor": 0
      },
      "text/plain": [
       "Export report to file:   0%|          | 0/1 [00:00<?, ?it/s]"
      ]
     },
     "metadata": {},
     "output_type": "display_data"
    },
    {
     "data": {
      "application/vnd.jupyter.widget-view+json": {
       "model_id": "d45e7517d93a4e40af2489946e766f8b",
       "version_major": 2,
       "version_minor": 0
      },
      "text/plain": [
       "Summarize dataset:   0%|          | 0/34 [00:00<?, ?it/s]"
      ]
     },
     "metadata": {},
     "output_type": "display_data"
    },
    {
     "data": {
      "application/vnd.jupyter.widget-view+json": {
       "model_id": "4fbd2c9a34524b69a758347c18442575",
       "version_major": 2,
       "version_minor": 0
      },
      "text/plain": [
       "Generate report structure:   0%|          | 0/1 [00:00<?, ?it/s]"
      ]
     },
     "metadata": {},
     "output_type": "display_data"
    },
    {
     "data": {
      "application/vnd.jupyter.widget-view+json": {
       "model_id": "4c4ef8b53ca34cd38bfb690f36e4dfc9",
       "version_major": 2,
       "version_minor": 0
      },
      "text/plain": [
       "Render HTML:   0%|          | 0/1 [00:00<?, ?it/s]"
      ]
     },
     "metadata": {},
     "output_type": "display_data"
    },
    {
     "data": {
      "application/vnd.jupyter.widget-view+json": {
       "model_id": "6256d9e8a0034dbe97329884e4ee859f",
       "version_major": 2,
       "version_minor": 0
      },
      "text/plain": [
       "Export report to file:   0%|          | 0/1 [00:00<?, ?it/s]"
      ]
     },
     "metadata": {},
     "output_type": "display_data"
    },
    {
     "data": {
      "application/vnd.jupyter.widget-view+json": {
       "model_id": "0fa765f5259845c7957d0e8b3159c306",
       "version_major": 2,
       "version_minor": 0
      },
      "text/plain": [
       "Summarize dataset:   0%|          | 0/34 [00:00<?, ?it/s]"
      ]
     },
     "metadata": {},
     "output_type": "display_data"
    },
    {
     "data": {
      "application/vnd.jupyter.widget-view+json": {
       "model_id": "84000a0cc04d4048b7b10c2d685d9d49",
       "version_major": 2,
       "version_minor": 0
      },
      "text/plain": [
       "Generate report structure:   0%|          | 0/1 [00:00<?, ?it/s]"
      ]
     },
     "metadata": {},
     "output_type": "display_data"
    },
    {
     "data": {
      "application/vnd.jupyter.widget-view+json": {
       "model_id": "16aec1e251ed406cbbe1a80a400206d4",
       "version_major": 2,
       "version_minor": 0
      },
      "text/plain": [
       "Render HTML:   0%|          | 0/1 [00:00<?, ?it/s]"
      ]
     },
     "metadata": {},
     "output_type": "display_data"
    },
    {
     "data": {
      "application/vnd.jupyter.widget-view+json": {
       "model_id": "8fa314ea7a1d4684ae922392397e1665",
       "version_major": 2,
       "version_minor": 0
      },
      "text/plain": [
       "Export report to file:   0%|          | 0/1 [00:00<?, ?it/s]"
      ]
     },
     "metadata": {},
     "output_type": "display_data"
    },
    {
     "data": {
      "application/vnd.jupyter.widget-view+json": {
       "model_id": "565401314c0a47e1b01606d7a0bab1ce",
       "version_major": 2,
       "version_minor": 0
      },
      "text/plain": [
       "Summarize dataset:   0%|          | 0/34 [00:00<?, ?it/s]"
      ]
     },
     "metadata": {},
     "output_type": "display_data"
    },
    {
     "data": {
      "application/vnd.jupyter.widget-view+json": {
       "model_id": "fc67a6f4fb9448c296bdf608ed7193ec",
       "version_major": 2,
       "version_minor": 0
      },
      "text/plain": [
       "Generate report structure:   0%|          | 0/1 [00:00<?, ?it/s]"
      ]
     },
     "metadata": {},
     "output_type": "display_data"
    },
    {
     "data": {
      "application/vnd.jupyter.widget-view+json": {
       "model_id": "eac8df1e5ffe4840913c492e5af14032",
       "version_major": 2,
       "version_minor": 0
      },
      "text/plain": [
       "Render HTML:   0%|          | 0/1 [00:00<?, ?it/s]"
      ]
     },
     "metadata": {},
     "output_type": "display_data"
    },
    {
     "data": {
      "application/vnd.jupyter.widget-view+json": {
       "model_id": "b7d3373fc3a24bd4b0787e1ee9f535b4",
       "version_major": 2,
       "version_minor": 0
      },
      "text/plain": [
       "Export report to file:   0%|          | 0/1 [00:00<?, ?it/s]"
      ]
     },
     "metadata": {},
     "output_type": "display_data"
    },
    {
     "data": {
      "application/vnd.jupyter.widget-view+json": {
       "model_id": "9bc1be4034f54061bea83a1b98f61ef9",
       "version_major": 2,
       "version_minor": 0
      },
      "text/plain": [
       "Summarize dataset:   0%|          | 0/34 [00:00<?, ?it/s]"
      ]
     },
     "metadata": {},
     "output_type": "display_data"
    },
    {
     "data": {
      "application/vnd.jupyter.widget-view+json": {
       "model_id": "29990e2c045a44909529a2e3375fba0f",
       "version_major": 2,
       "version_minor": 0
      },
      "text/plain": [
       "Generate report structure:   0%|          | 0/1 [00:00<?, ?it/s]"
      ]
     },
     "metadata": {},
     "output_type": "display_data"
    },
    {
     "data": {
      "application/vnd.jupyter.widget-view+json": {
       "model_id": "df5aecc7a4cc4893bb623495ed3db16a",
       "version_major": 2,
       "version_minor": 0
      },
      "text/plain": [
       "Render HTML:   0%|          | 0/1 [00:00<?, ?it/s]"
      ]
     },
     "metadata": {},
     "output_type": "display_data"
    },
    {
     "data": {
      "application/vnd.jupyter.widget-view+json": {
       "model_id": "8c6a939b5b4b43dfbfbaa0b21affded1",
       "version_major": 2,
       "version_minor": 0
      },
      "text/plain": [
       "Export report to file:   0%|          | 0/1 [00:00<?, ?it/s]"
      ]
     },
     "metadata": {},
     "output_type": "display_data"
    },
    {
     "data": {
      "application/vnd.jupyter.widget-view+json": {
       "model_id": "b6078607fa6f4d9990104c394f2fe0a1",
       "version_major": 2,
       "version_minor": 0
      },
      "text/plain": [
       "Summarize dataset:   0%|          | 0/34 [00:00<?, ?it/s]"
      ]
     },
     "metadata": {},
     "output_type": "display_data"
    },
    {
     "data": {
      "application/vnd.jupyter.widget-view+json": {
       "model_id": "70bb5a34991f4b9fa2b2727f14515426",
       "version_major": 2,
       "version_minor": 0
      },
      "text/plain": [
       "Generate report structure:   0%|          | 0/1 [00:00<?, ?it/s]"
      ]
     },
     "metadata": {},
     "output_type": "display_data"
    },
    {
     "data": {
      "application/vnd.jupyter.widget-view+json": {
       "model_id": "7aae3693bedb44dd9dce56cfe188dc09",
       "version_major": 2,
       "version_minor": 0
      },
      "text/plain": [
       "Render HTML:   0%|          | 0/1 [00:00<?, ?it/s]"
      ]
     },
     "metadata": {},
     "output_type": "display_data"
    },
    {
     "data": {
      "application/vnd.jupyter.widget-view+json": {
       "model_id": "ba20568aaee24388a92319972cf4b11f",
       "version_major": 2,
       "version_minor": 0
      },
      "text/plain": [
       "Export report to file:   0%|          | 0/1 [00:00<?, ?it/s]"
      ]
     },
     "metadata": {},
     "output_type": "display_data"
    },
    {
     "data": {
      "application/vnd.jupyter.widget-view+json": {
       "model_id": "bafe139548e64dc38a0b67971c2db35e",
       "version_major": 2,
       "version_minor": 0
      },
      "text/plain": [
       "Summarize dataset:   0%|          | 0/34 [00:00<?, ?it/s]"
      ]
     },
     "metadata": {},
     "output_type": "display_data"
    },
    {
     "data": {
      "application/vnd.jupyter.widget-view+json": {
       "model_id": "bf6c5a60d4cb451e9f3e668fa5cef0e5",
       "version_major": 2,
       "version_minor": 0
      },
      "text/plain": [
       "Generate report structure:   0%|          | 0/1 [00:00<?, ?it/s]"
      ]
     },
     "metadata": {},
     "output_type": "display_data"
    },
    {
     "data": {
      "application/vnd.jupyter.widget-view+json": {
       "model_id": "11ca2968eb014407a96df2f81a8f04c9",
       "version_major": 2,
       "version_minor": 0
      },
      "text/plain": [
       "Render HTML:   0%|          | 0/1 [00:00<?, ?it/s]"
      ]
     },
     "metadata": {},
     "output_type": "display_data"
    },
    {
     "data": {
      "application/vnd.jupyter.widget-view+json": {
       "model_id": "b91d72775eff41e58a8f9ada73b88b59",
       "version_major": 2,
       "version_minor": 0
      },
      "text/plain": [
       "Export report to file:   0%|          | 0/1 [00:00<?, ?it/s]"
      ]
     },
     "metadata": {},
     "output_type": "display_data"
    },
    {
     "data": {
      "application/vnd.jupyter.widget-view+json": {
       "model_id": "a4336d9027f0470e9a9d6679c344edb2",
       "version_major": 2,
       "version_minor": 0
      },
      "text/plain": [
       "Summarize dataset:   0%|          | 0/34 [00:00<?, ?it/s]"
      ]
     },
     "metadata": {},
     "output_type": "display_data"
    },
    {
     "data": {
      "application/vnd.jupyter.widget-view+json": {
       "model_id": "fe112dd3838a4eacb3c8fa5c7d2f55f2",
       "version_major": 2,
       "version_minor": 0
      },
      "text/plain": [
       "Generate report structure:   0%|          | 0/1 [00:00<?, ?it/s]"
      ]
     },
     "metadata": {},
     "output_type": "display_data"
    },
    {
     "data": {
      "application/vnd.jupyter.widget-view+json": {
       "model_id": "295a09f7aeb7420f8b8e6e7d34450432",
       "version_major": 2,
       "version_minor": 0
      },
      "text/plain": [
       "Render HTML:   0%|          | 0/1 [00:00<?, ?it/s]"
      ]
     },
     "metadata": {},
     "output_type": "display_data"
    },
    {
     "data": {
      "application/vnd.jupyter.widget-view+json": {
       "model_id": "8118de25508f45828f873b7e75f331aa",
       "version_major": 2,
       "version_minor": 0
      },
      "text/plain": [
       "Export report to file:   0%|          | 0/1 [00:00<?, ?it/s]"
      ]
     },
     "metadata": {},
     "output_type": "display_data"
    }
   ],
   "source": [
    "carla_kitti_sep_dfs = {}\n",
    "for (name, df) in carla_kitti_per_obj_infos_pd.groupby('name'):\n",
    "    pd_prof = pandas_profiling.ProfileReport(df, minimal=True)\n",
    "    carla_kitti_sep_dfs[name] = df\n",
    "    pd_prof.to_file(\"./dataset_reports/carla-kitti_per_obj_{}_only.html\".format(name))\n",
    "\n",
    "kitti_sep_dfs = {}\n",
    "for (name, df) in kitti_per_obj_infos_pd.groupby('name'):\n",
    "    pd_prof = pandas_profiling.ProfileReport(df, minimal=True)\n",
    "    kitti_sep_dfs[name] = df\n",
    "    pd_prof.to_file(\"./dataset_reports/kitti_per_obj_{}_only.html\".format(name))"
   ]
  },
  {
   "cell_type": "code",
   "execution_count": 8,
   "id": "measured-cartridge",
   "metadata": {},
   "outputs": [],
   "source": [
    "carla_kitti_car = carla_kitti_sep_dfs['Car']\n",
    "kitti_car = kitti_sep_dfs['Car']"
   ]
  },
  {
   "cell_type": "code",
   "execution_count": 13,
   "id": "collective-burton",
   "metadata": {},
   "outputs": [],
   "source": [
    "carla_kitti_car_depths = carla_kitti_car['loc_x (meter)']\n",
    "kitti_car_depths = kitti_car['loc_x (meter)']"
   ]
  },
  {
   "cell_type": "code",
   "execution_count": 55,
   "id": "collect-sandwich",
   "metadata": {},
   "outputs": [],
   "source": [
    "carla_kitti_car_length = carla_kitti_car['dim_x (meter)']\n",
    "kitti_car_length = kitti_car['dim_x (meter)']\n",
    "\n",
    "carla_kitti_car_width = carla_kitti_car['dim_y (meter)']\n",
    "kitti_car_width = kitti_car['dim_y (meter)']\n",
    "\n",
    "carla_kitti_car_height = carla_kitti_car['dim_z (meter)']\n",
    "kitti_car_height = kitti_car['dim_z (meter)']"
   ]
  },
  {
   "cell_type": "code",
   "execution_count": 43,
   "id": "threaded-antenna",
   "metadata": {},
   "outputs": [
    {
     "data": {
      "image/png": "[encoded data removed]",
      "text/plain": [
       "<Figure size 432x288 with 1 Axes>"
      ]
     },
     "metadata": {
      "needs_background": "light"
     },
     "output_type": "display_data"
    }
   ],
   "source": [
    "import numpy as np\n",
    "import matplotlib.pyplot as plt\n",
    "plt.style.use('seaborn-deep')\n",
    "\n",
    "\n",
    "# bins = np.linspace(0, 80, 40)\n",
    "\n",
    "plt.hist([carla_kitti_car_depths, kitti_car_depths], bins=40, range=[0, 80], label=['Carla-Kitti', 'Kitti'])\n",
    "plt.title(\"Distance distribution (Car)\")\n",
    "plt.ylabel(\"Number\")\n",
    "plt.xlabel(\"Distance (meter)\")\n",
    "plt.tight_layout()\n",
    "\n",
    "plt.legend(loc='upper right')\n",
    "plt.savefig('car_depth.png')\n",
    "plt.show()"
   ]
  },
  {
   "cell_type": "code",
   "execution_count": 42,
   "id": "color-blair",
   "metadata": {},
   "outputs": [
    {
     "data": {
      "image/png": "[encoded data removed]",
      "text/plain": [
       "<Figure size 432x288 with 1 Axes>"
      ]
     },
     "metadata": {
      "needs_background": "light"
     },
     "output_type": "display_data"
    }
   ],
   "source": [
    "_, bins, _ = plt.hist(carla_kitti_car_depths, bins=40, range=[0, 80], label=['Carla-Kitti'])\n",
    "_ = plt.hist(kitti_car_depths, bins=bins, alpha=0.5, label=['Kitti'])\n",
    "plt.legend(loc='upper right')\n",
    "plt.title(\"Distance distribution (Car)\")\n",
    "plt.ylabel(\"Number\")\n",
    "plt.xlabel(\"Distance (meter)\")\n",
    "plt.tight_layout()\n",
    "plt.savefig('car_depth_alpha_ver.png')\n",
    "plt.show()"
   ]
  },
  {
   "cell_type": "code",
   "execution_count": 102,
   "id": "buried-secretariat",
   "metadata": {},
   "outputs": [
    {
     "data": {
      "image/png": "[encoded data removed]",
      "text/plain": [
       "<Figure size 1080x360 with 3 Axes>"
      ]
     },
     "metadata": {
      "needs_background": "light"
     },
     "output_type": "display_data"
    }
   ],
   "source": [
    "# Create two subplots and unpack the output array immediately\n",
    "f, (ax1, ax2, ax3) = plt.subplots(1, 3, sharey=True, figsize=(15,5))\n",
    "# =======================Car 3D Bounding Box Length Distribution=======================\n",
    "_, bins, _ = ax1.hist(carla_kitti_car_length, bins=25, range=[2, 6], label=['Carla-Kitti'])\n",
    "_ = ax1.hist(kitti_car_length, bins=bins, alpha=0.6, label=['Kitti'])\n",
    "ax1.legend(loc='upper right')\n",
    "ax1.set_title(\"Car 3D Bounding Box Length Distribution\")\n",
    "ax1.set_ylabel(\"Number\")\n",
    "# ax1.set_ylim(1)\n",
    "ax1.set_xlabel(\"Meters\")\n",
    "# =======================Car 3D Bounding Box Width Distribution=======================\n",
    "_, bins, _ = ax2.hist(carla_kitti_car_width, bins=25, range=[1, 2.5], label=['Carla-Kitti'])\n",
    "_ = ax2.hist(kitti_car_width, bins=bins, alpha=0.5, label=['Kitti'])\n",
    "# ax2.legend(loc='upper right')\n",
    "ax2.set_title(\"Car 3D Bounding Box Width Distribution\")\n",
    "ax2.set_ylabel(\"Number\")\n",
    "# ax1.set_ylim(1)\n",
    "ax2.set_xlabel(\"Meters\")\n",
    "# =======================Car 3D Bounding Box Height Distribution=======================\n",
    "_, bins, _ = ax3.hist(carla_kitti_car_height, bins=25, range=[1, 2.5], label=['Carla-Kitti'])\n",
    "_ = ax3.hist(kitti_car_height, bins=bins, alpha=0.5, label=['Kitti'])\n",
    "# ax3.legend(loc='upper right')\n",
    "ax3.set_title(\"Car 3D Bounding Box Height Distribution\")\n",
    "ax3.set_ylabel(\"Number\")\n",
    "# ax1.set_ylim(1)\n",
    "ax3.set_xlabel(\"Meters\")\n",
    "plt.tight_layout()\n",
    "f.savefig(\"Car 3D BBox Dists.png\")\n",
    "f.savefig(\"Car 3D BBox Dists.pdf\")"
   ]
  }
 ],
 "metadata": {
  "kernelspec": {
   "display_name": "Python 3",
   "language": "python",
   "name": "python3"
  },
  "language_info": {
   "codemirror_mode": {
    "name": "ipython",
    "version": 3
   },
   "file_extension": ".py",
   "mimetype": "text/x-python",
   "name": "python",
   "nbconvert_exporter": "python",
   "pygments_lexer": "ipython3",
   "version": "3.8.8"
  }
 },
 "nbformat": 4,
 "nbformat_minor": 5
}
