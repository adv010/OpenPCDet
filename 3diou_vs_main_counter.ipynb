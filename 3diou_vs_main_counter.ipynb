{
 "cells": [
  {
   "cell_type": "code",
   "execution_count": 8,
   "metadata": {},
   "outputs": [],
   "source": [
    "import pickle\n",
    "import torch\n",
    "import numpy as np"
   ]
  },
  {
   "cell_type": "code",
   "execution_count": 9,
   "metadata": {},
   "outputs": [
    {
     "data": {
      "text/plain": [
       "4"
      ]
     },
     "execution_count": 9,
     "metadata": {},
     "output_type": "execute_result"
    }
   ],
   "source": [
    "with open(\"/mnt/data/adat01/adv_OpenPCDet/output/kitti_models/pv_rcnn_ssl_60/3diou_org_pkl_984cd77/gt_scores_3diou_org.pkl\",\"rb\") as f:\n",
    "    org_data = pickle.load(f)\n",
    "\n",
    "len(org_data)"
   ]
  },
  {
   "cell_type": "code",
   "execution_count": 10,
   "metadata": {},
   "outputs": [
    {
     "data": {
      "text/plain": [
       "4"
      ]
     },
     "execution_count": 10,
     "metadata": {},
     "output_type": "execute_result"
    }
   ],
   "source": [
    "with open(\"/mnt/data/adat01/adv_OpenPCDet/output/kitti_models/pv_rcnn_ssl_60/main_branch_pkl_0685d17/gt_scores_main_branch.pkl\",\"rb\") as f:\n",
    "    main_data = pickle.load(f)\n",
    "\n",
    "len(main_data)"
   ]
  },
  {
   "cell_type": "code",
   "execution_count": 11,
   "metadata": {},
   "outputs": [
    {
     "data": {
      "text/plain": [
       "(1, 28, 8)"
      ]
     },
     "execution_count": 11,
     "metadata": {},
     "output_type": "execute_result"
    }
   ],
   "source": [
    "len(org_data['lb'])\n",
    "org_data['lb'][0].shape"
   ]
  },
  {
   "cell_type": "code",
   "execution_count": 12,
   "metadata": {},
   "outputs": [
    {
     "data": {
      "text/plain": [
       "(1, 27, 8)"
      ]
     },
     "execution_count": 12,
     "metadata": {},
     "output_type": "execute_result"
    }
   ],
   "source": [
    "len(main_data['lb'])\n",
    "main_data['lb'][0].shape"
   ]
  },
  {
   "cell_type": "code",
   "execution_count": 13,
   "metadata": {},
   "outputs": [],
   "source": [
    "classes = np.hstack(org_data['lb'])\n",
    "car = np.sum(classes[...,-1]==1)\n",
    "ped = np.sum(classes[...,-1]==2)\n",
    "cyc = np.sum(classes[...,-1]==3)\n",
    "\n",
    "classes_main = np.hstack(main_data['lb'])\n",
    "car_main = np.sum(classes_main[...,-1]==1)\n",
    "ped_main = np.sum(classes_main[...,-1]==2)\n",
    "cyc_main = np.sum(classes_main[...,-1]==3)"
   ]
  },
  {
   "cell_type": "code",
   "execution_count": 14,
   "metadata": {},
   "outputs": [
    {
     "name": "stdout",
     "output_type": "stream",
     "text": [
      "Labeled, 3diou_org : car = 12587, ped = 6263, cyc = 4580\n"
     ]
    }
   ],
   "source": [
    "print(f\"Labeled, 3diou_org : car = {car}, ped = {ped}, cyc = {cyc}\")"
   ]
  },
  {
   "cell_type": "code",
   "execution_count": 15,
   "metadata": {},
   "outputs": [
    {
     "name": "stdout",
     "output_type": "stream",
     "text": [
      "Labeled, main : car = 12698, ped = 6274, cyc = 4535\n"
     ]
    }
   ],
   "source": [
    "print(f\"Labeled, main : car = {car_main}, ped = {ped_main}, cyc = {cyc_main}\")"
   ]
  },
  {
   "cell_type": "code",
   "execution_count": 41,
   "metadata": {},
   "outputs": [
    {
     "data": {
      "text/plain": [
       "tensor([[1., 1., 1., 1., 1., 1., 1., 1., 1., 1., 1., 1., 1., 1., 1., 2., 2., 2.,\n",
       "         2., 2., 2., 2., 3., 3., 3., 3., 3., 3.]])"
      ]
     },
     "execution_count": 41,
     "metadata": {},
     "output_type": "execute_result"
    }
   ],
   "source": []
  },
  {
   "cell_type": "code",
   "execution_count": 36,
   "metadata": {},
   "outputs": [
    {
     "data": {
      "text/plain": [
       "array([19.367697 ,  5.117341 , -0.6142504,  1.92     ,  0.59     ,\n",
       "        1.77     , -3.1507964,  3.       ], dtype=float32)"
      ]
     },
     "execution_count": 36,
     "metadata": {},
     "output_type": "execute_result"
    }
   ],
   "source": []
  }
 ],
 "metadata": {
  "kernelspec": {
   "display_name": "adat_pcdetv5",
   "language": "python",
   "name": "python3"
  },
  "language_info": {
   "codemirror_mode": {
    "name": "ipython",
    "version": 3
   },
   "file_extension": ".py",
   "mimetype": "text/x-python",
   "name": "python",
   "nbconvert_exporter": "python",
   "pygments_lexer": "ipython3",
   "version": "3.9.15"
  },
  "orig_nbformat": 4
 },
 "nbformat": 4,
 "nbformat_minor": 2
}
