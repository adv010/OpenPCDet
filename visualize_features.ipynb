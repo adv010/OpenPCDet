{
 "cells": [
  {
   "cell_type": "code",
   "execution_count": 1,
   "metadata": {},
   "outputs": [
    {
     "name": "stderr",
     "output_type": "stream",
     "text": [
      "/mnt/data/anaconda3/envs/adat_pcdetv5/lib/python3.9/site-packages/tqdm-4.64.1-py3.9.egg/tqdm/auto.py:22: TqdmWarning: IProgress not found. Please update jupyter and ipywidgets. See https://ipywidgets.readthedocs.io/en/stable/user_install.html\n",
      "  from .autonotebook import tqdm as notebook_tqdm\n"
     ]
    }
   ],
   "source": [
    "import pickle\n",
    "import numpy \n",
    "import torch\n",
    "torch.set_printoptions(precision=10)"
   ]
  },
  {
   "cell_type": "code",
   "execution_count": 11,
   "metadata": {},
   "outputs": [
    {
     "data": {
      "text/plain": [
       "dict_keys(['type', 'gt_boxes', 'gt_prototype'])"
      ]
     },
     "execution_count": 11,
     "metadata": {},
     "output_type": "execute_result"
    }
   ],
   "source": [
    "path =\"/netscratch/athreya/GT_Prototype_pkls/prototype_infos_fully_sup_nogtsmpl.pkl\"\n",
    "with open(path,\"rb\") as file:\n",
    "    data=pickle.load(file)\n",
    "data.keys()"
   ]
  },
  {
   "cell_type": "markdown",
   "metadata": {},
   "source": [
    "Compared to gt_auged which would have 16/27 boxes for bs2, here we have 9 boxes (example)"
   ]
  },
  {
   "cell_type": "code",
   "execution_count": 12,
   "metadata": {},
   "outputs": [
    {
     "data": {
      "text/plain": [
       "(8, 8)"
      ]
     },
     "execution_count": 12,
     "metadata": {},
     "output_type": "execute_result"
    }
   ],
   "source": [
    "data['ens'][0].keys()"
   ]
  },
  {
   "cell_type": "code",
   "execution_count": null,
   "metadata": {},
   "outputs": [],
   "source": [
    "\n",
    "dim0 = data['ens'][0]['pooled_features_gt'].shape[0]\n",
    "data['ens'][0]['gt_boxes'][...,-1]\n",
    "\n"
   ]
  },
  {
   "cell_type": "code",
   "execution_count": null,
   "metadata": {},
   "outputs": [],
   "source": [
    "car_pool_list = []\n",
    "ped_pool_list = []\n",
    "cyc_pool_list = []\n",
    "car_sh_list = []\n",
    "ped_sh_list = []\n",
    "cyc_sh_list = []\n",
    "for ens in data['ens']:\n",
    "    dim0 = ens['gt_classes'].shape[0]\n",
    "    gt_val = torch.tensor(ens['pooled_features_gt']) # [N, 128, 6*6*6] ==>[N, 216, 128]\n",
    "    gt_sh = torch.tensor([]) # ([30, 256])\n",
    "    gt_classes = torch.tensor(ens['gt_boxes'])[...,-1]\n",
    "    \n",
    "    car_pool = gt_val[gt_classes==1]\n",
    "    ped_pool = gt_val[gt_classes==2] \n",
    "    cyc_pool = gt_val[gt_classes==3]\n",
    "\n",
    "    car_sh = gt_sh\n",
    "    ped_sh = gt_sh\n",
    "    cyc_sh = gt_sh\n",
    "    \n",
    "    car_pool_list.append(car_pool)\n",
    "    ped_pool_list.append(ped_pool)\n",
    "    cyc_pool_list.append(cyc_pool)\n",
    "\n",
    "    car_sh_list.append(car_sh)\n",
    "    ped_sh_list.append(ped_sh)\n",
    "    cyc_sh_list.append(cyc_sh)"
   ]
  },
  {
   "cell_type": "code",
   "execution_count": 13,
   "metadata": {},
   "outputs": [
    {
     "data": {
      "text/plain": [
       "dict_keys(['type', 'gt_boxes', 'gt_prototype'])"
      ]
     },
     "execution_count": 13,
     "metadata": {},
     "output_type": "execute_result"
    }
   ],
   "source": [
    "\n",
    "\n",
    "car_pool = torch.cat(car_pool_list)\n",
    "cyc_pool = torch.cat(cyc_pool_list)\n",
    "ped_pool = torch.cat(ped_pool_list)\n",
    "\n",
    "car_sh = torch.cat(car_sh_list)\n",
    "ped_sh = torch.cat(ped_sh_list)\n",
    "cyc_sh = torch.cat(cyc_sh_list)\n",
    "\n",
    "temp = {}\n",
    "temp['Car'] = {}\n",
    "temp['Ped'] = {}\n",
    "temp['Cyc'] = {}\n",
    "\n",
    "temp['Car']['mean'] = {}\n",
    "temp['Ped']['mean'] = {}\n",
    "temp['Cyc']['mean'] = {}\n",
    "\n",
    "temp['Car']['mean']['sh'] = car_sh\n",
    "temp['Ped']['mean']['sh'] = ped_sh\n",
    "temp['Cyc']['mean']['sh'] = cyc_sh\n",
    "\n",
    "temp['Car']['mean']['pool'] = car_pool\n",
    "temp['Ped']['mean']['pool'] = ped_pool\n",
    "temp['Cyc']['mean']['pool'] = cyc_pool"
   ]
  },
  {
   "cell_type": "code",
   "execution_count": null,
   "metadata": {},
   "outputs": [],
   "source": [
    "\n",
    "\n",
    "with open('/netscratch/athreya/GT_Prototype_pkls/tools/feature_bank_pooled_shared_0.01_gt_proto_nogtsmpl.pkl', 'wb') as f:\n",
    "    pickle.dump(temp, f)\n",
    "\n",
    "\n",
    "car_pool_prototype = car_pool.mean(dim=0)\n",
    "ped_pool_prototype = ped_pool.mean(dim=0)\n",
    "cyc_pool_prototype = cyc_pool.mean(dim=0)\n",
    "car_sh_prototype = car_sh.mean(dim=0)\n",
    "ped_sh_prototype = ped_sh.mean(dim=0)\n",
    "cyc_sh_prototype = cyc_sh.mean(dim=0)\n",
    "\n",
    "temp = {}\n",
    "temp['Car'] = {}\n",
    "temp['Ped'] = {}\n",
    "temp['Cyc'] = {}\n",
    "\n",
    "temp['Car']['mean'] = {}\n",
    "temp['Ped']['mean'] = {}\n",
    "temp['Cyc']['mean'] = {}\n",
    "\n",
    "temp['Car']['mean']['sh'] = car_sh_prototype\n",
    "temp['Ped']['mean']['sh'] = ped_sh_prototype\n",
    "temp['Cyc']['mean']['sh'] = ped_sh_prototype\n",
    "\n",
    "temp['Car']['mean']['pool'] = car_pool_prototype\n",
    "temp['Ped']['mean']['pool'] = ped_pool_prototype\n",
    "temp['Cyc']['mean']['pool'] = cyc_pool_prototype\n"
   ]
  },
  {
   "cell_type": "code",
   "execution_count": null,
   "metadata": {},
   "outputs": [],
   "source": [
    "file_path = \"/netscratch/athreya/GT_Prototype_pkls/prototype_infos_80pth_1_nogtsmpl.pkl\"\n",
    "with open(file_path, 'wb') as file:\n",
    "    pickle.dump(temp, file)\n",
    "\n",
    "print(\"Dictionary dumped to\", file_path)"
   ]
  }
 ],
 "metadata": {
  "kernelspec": {
   "display_name": "adat_pcdetv5",
   "language": "python",
   "name": "python3"
  },
  "language_info": {
   "codemirror_mode": {
    "name": "ipython",
    "version": 3
   },
   "file_extension": ".py",
   "mimetype": "text/x-python",
   "name": "python",
   "nbconvert_exporter": "python",
   "pygments_lexer": "ipython3",
   "version": "3.9.15"
  },
  "orig_nbformat": 4
 },
 "nbformat": 4,
 "nbformat_minor": 2
}
